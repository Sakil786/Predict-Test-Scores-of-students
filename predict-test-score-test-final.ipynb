{
 "cells": [
  {
   "cell_type": "code",
   "execution_count": 1,
   "metadata": {
    "_cell_guid": "b1076dfc-b9ad-4769-8c92-a6c4dae69d19",
    "_uuid": "8f2839f25d086af736a60e9eeb907d3b93b6e0e5",
    "execution": {
     "iopub.execute_input": "2021-07-10T09:52:40.240854Z",
     "iopub.status.busy": "2021-07-10T09:52:40.240394Z",
     "iopub.status.idle": "2021-07-10T09:52:40.260289Z",
     "shell.execute_reply": "2021-07-10T09:52:40.259063Z",
     "shell.execute_reply.started": "2021-07-10T09:52:40.240755Z"
    }
   },
   "outputs": [],
   "source": [
    "\n",
    "\n",
    "import numpy as np # linear algebra\n",
    "import pandas as pd # data processing, CSV file I/O (e.g. pd.read_csv)\n",
    "\n",
    "import os\n"
   ]
  },
  {
   "cell_type": "code",
   "execution_count": 2,
   "metadata": {
    "execution": {
     "iopub.execute_input": "2021-07-10T09:52:40.262064Z",
     "iopub.status.busy": "2021-07-10T09:52:40.261742Z",
     "iopub.status.idle": "2021-07-10T09:52:43.139128Z",
     "shell.execute_reply": "2021-07-10T09:52:43.138129Z",
     "shell.execute_reply.started": "2021-07-10T09:52:40.262028Z"
    }
   },
   "outputs": [
    {
     "name": "stderr",
     "output_type": "stream",
     "text": [
      "/home/sakil/anaconda/lib/python3.7/site-packages/dask/dataframe/utils.py:15: FutureWarning: pandas.util.testing is deprecated. Use the functions in the public API at pandas.testing instead.\n",
      "  import pandas.util.testing as tm\n"
     ]
    }
   ],
   "source": [
    "\n",
    "import seaborn as sns\n",
    "import matplotlib.pyplot as plt\n",
    "from sklearn.model_selection import train_test_split\n",
    "from sklearn.ensemble import RandomForestClassifier\n",
    "import lightgbm as lgb\n",
    "import os"
   ]
  },
  {
   "cell_type": "code",
   "execution_count": 3,
   "metadata": {
    "execution": {
     "iopub.execute_input": "2021-07-10T09:52:43.140915Z",
     "iopub.status.busy": "2021-07-10T09:52:43.140631Z",
     "iopub.status.idle": "2021-07-10T09:52:43.164958Z",
     "shell.execute_reply": "2021-07-10T09:52:43.163868Z",
     "shell.execute_reply.started": "2021-07-10T09:52:43.140881Z"
    }
   },
   "outputs": [],
   "source": [
    "#reading data\n",
    "data = pd.read_csv('test_scores.csv')"
   ]
  },
  {
   "cell_type": "code",
   "execution_count": 4,
   "metadata": {
    "execution": {
     "iopub.execute_input": "2021-07-10T09:52:43.167068Z",
     "iopub.status.busy": "2021-07-10T09:52:43.166668Z",
     "iopub.status.idle": "2021-07-10T09:52:43.200193Z",
     "shell.execute_reply": "2021-07-10T09:52:43.198831Z",
     "shell.execute_reply.started": "2021-07-10T09:52:43.167026Z"
    }
   },
   "outputs": [
    {
     "data": {
      "text/html": [
       "<div>\n",
       "<style scoped>\n",
       "    .dataframe tbody tr th:only-of-type {\n",
       "        vertical-align: middle;\n",
       "    }\n",
       "\n",
       "    .dataframe tbody tr th {\n",
       "        vertical-align: top;\n",
       "    }\n",
       "\n",
       "    .dataframe thead th {\n",
       "        text-align: right;\n",
       "    }\n",
       "</style>\n",
       "<table border=\"1\" class=\"dataframe\">\n",
       "  <thead>\n",
       "    <tr style=\"text-align: right;\">\n",
       "      <th></th>\n",
       "      <th>school</th>\n",
       "      <th>school_setting</th>\n",
       "      <th>school_type</th>\n",
       "      <th>classroom</th>\n",
       "      <th>teaching_method</th>\n",
       "      <th>n_student</th>\n",
       "      <th>student_id</th>\n",
       "      <th>gender</th>\n",
       "      <th>lunch</th>\n",
       "      <th>pretest</th>\n",
       "      <th>posttest</th>\n",
       "    </tr>\n",
       "  </thead>\n",
       "  <tbody>\n",
       "    <tr>\n",
       "      <th>0</th>\n",
       "      <td>ANKYI</td>\n",
       "      <td>Urban</td>\n",
       "      <td>Non-public</td>\n",
       "      <td>6OL</td>\n",
       "      <td>Standard</td>\n",
       "      <td>20.0</td>\n",
       "      <td>2FHT3</td>\n",
       "      <td>Female</td>\n",
       "      <td>Does not qualify</td>\n",
       "      <td>62.0</td>\n",
       "      <td>72.0</td>\n",
       "    </tr>\n",
       "    <tr>\n",
       "      <th>1</th>\n",
       "      <td>ANKYI</td>\n",
       "      <td>Urban</td>\n",
       "      <td>Non-public</td>\n",
       "      <td>6OL</td>\n",
       "      <td>Standard</td>\n",
       "      <td>20.0</td>\n",
       "      <td>3JIVH</td>\n",
       "      <td>Female</td>\n",
       "      <td>Does not qualify</td>\n",
       "      <td>66.0</td>\n",
       "      <td>79.0</td>\n",
       "    </tr>\n",
       "    <tr>\n",
       "      <th>2</th>\n",
       "      <td>ANKYI</td>\n",
       "      <td>Urban</td>\n",
       "      <td>Non-public</td>\n",
       "      <td>6OL</td>\n",
       "      <td>Standard</td>\n",
       "      <td>20.0</td>\n",
       "      <td>3XOWE</td>\n",
       "      <td>Male</td>\n",
       "      <td>Does not qualify</td>\n",
       "      <td>64.0</td>\n",
       "      <td>76.0</td>\n",
       "    </tr>\n",
       "    <tr>\n",
       "      <th>3</th>\n",
       "      <td>ANKYI</td>\n",
       "      <td>Urban</td>\n",
       "      <td>Non-public</td>\n",
       "      <td>6OL</td>\n",
       "      <td>Standard</td>\n",
       "      <td>20.0</td>\n",
       "      <td>556O0</td>\n",
       "      <td>Female</td>\n",
       "      <td>Does not qualify</td>\n",
       "      <td>61.0</td>\n",
       "      <td>77.0</td>\n",
       "    </tr>\n",
       "    <tr>\n",
       "      <th>4</th>\n",
       "      <td>ANKYI</td>\n",
       "      <td>Urban</td>\n",
       "      <td>Non-public</td>\n",
       "      <td>6OL</td>\n",
       "      <td>Standard</td>\n",
       "      <td>20.0</td>\n",
       "      <td>74LOE</td>\n",
       "      <td>Male</td>\n",
       "      <td>Does not qualify</td>\n",
       "      <td>64.0</td>\n",
       "      <td>76.0</td>\n",
       "    </tr>\n",
       "  </tbody>\n",
       "</table>\n",
       "</div>"
      ],
      "text/plain": [
       "  school school_setting school_type classroom teaching_method  n_student  \\\n",
       "0  ANKYI          Urban  Non-public       6OL        Standard       20.0   \n",
       "1  ANKYI          Urban  Non-public       6OL        Standard       20.0   \n",
       "2  ANKYI          Urban  Non-public       6OL        Standard       20.0   \n",
       "3  ANKYI          Urban  Non-public       6OL        Standard       20.0   \n",
       "4  ANKYI          Urban  Non-public       6OL        Standard       20.0   \n",
       "\n",
       "  student_id  gender             lunch  pretest  posttest  \n",
       "0      2FHT3  Female  Does not qualify     62.0      72.0  \n",
       "1      3JIVH  Female  Does not qualify     66.0      79.0  \n",
       "2      3XOWE    Male  Does not qualify     64.0      76.0  \n",
       "3      556O0  Female  Does not qualify     61.0      77.0  \n",
       "4      74LOE    Male  Does not qualify     64.0      76.0  "
      ]
     },
     "execution_count": 4,
     "metadata": {},
     "output_type": "execute_result"
    }
   ],
   "source": [
    "data.head()"
   ]
  },
  {
   "cell_type": "code",
   "execution_count": 62,
   "metadata": {},
   "outputs": [
    {
     "data": {
      "text/html": [
       "<div>\n",
       "<style scoped>\n",
       "    .dataframe tbody tr th:only-of-type {\n",
       "        vertical-align: middle;\n",
       "    }\n",
       "\n",
       "    .dataframe tbody tr th {\n",
       "        vertical-align: top;\n",
       "    }\n",
       "\n",
       "    .dataframe thead th {\n",
       "        text-align: right;\n",
       "    }\n",
       "</style>\n",
       "<table border=\"1\" class=\"dataframe\">\n",
       "  <thead>\n",
       "    <tr style=\"text-align: right;\">\n",
       "      <th></th>\n",
       "      <th>pretest</th>\n",
       "    </tr>\n",
       "  </thead>\n",
       "  <tbody>\n",
       "    <tr>\n",
       "      <th>0</th>\n",
       "      <td>62.0</td>\n",
       "    </tr>\n",
       "    <tr>\n",
       "      <th>1</th>\n",
       "      <td>66.0</td>\n",
       "    </tr>\n",
       "    <tr>\n",
       "      <th>2</th>\n",
       "      <td>64.0</td>\n",
       "    </tr>\n",
       "    <tr>\n",
       "      <th>3</th>\n",
       "      <td>61.0</td>\n",
       "    </tr>\n",
       "    <tr>\n",
       "      <th>4</th>\n",
       "      <td>64.0</td>\n",
       "    </tr>\n",
       "  </tbody>\n",
       "</table>\n",
       "</div>"
      ],
      "text/plain": [
       "   pretest\n",
       "0     62.0\n",
       "1     66.0\n",
       "2     64.0\n",
       "3     61.0\n",
       "4     64.0"
      ]
     },
     "execution_count": 62,
     "metadata": {},
     "output_type": "execute_result"
    }
   ],
   "source": [
    "df=data[['pretest']]\n",
    "df.head()"
   ]
  },
  {
   "cell_type": "code",
   "execution_count": 65,
   "metadata": {},
   "outputs": [
    {
     "data": {
      "text/html": [
       "<div>\n",
       "<style scoped>\n",
       "    .dataframe tbody tr th:only-of-type {\n",
       "        vertical-align: middle;\n",
       "    }\n",
       "\n",
       "    .dataframe tbody tr th {\n",
       "        vertical-align: top;\n",
       "    }\n",
       "\n",
       "    .dataframe thead th {\n",
       "        text-align: right;\n",
       "    }\n",
       "</style>\n",
       "<table border=\"1\" class=\"dataframe\">\n",
       "  <thead>\n",
       "    <tr style=\"text-align: right;\">\n",
       "      <th></th>\n",
       "      <th>pretest</th>\n",
       "    </tr>\n",
       "  </thead>\n",
       "  <tbody>\n",
       "    <tr>\n",
       "      <th>0</th>\n",
       "      <td>62.0</td>\n",
       "    </tr>\n",
       "    <tr>\n",
       "      <th>1</th>\n",
       "      <td>66.0</td>\n",
       "    </tr>\n",
       "    <tr>\n",
       "      <th>2</th>\n",
       "      <td>64.0</td>\n",
       "    </tr>\n",
       "    <tr>\n",
       "      <th>3</th>\n",
       "      <td>61.0</td>\n",
       "    </tr>\n",
       "    <tr>\n",
       "      <th>4</th>\n",
       "      <td>64.0</td>\n",
       "    </tr>\n",
       "  </tbody>\n",
       "</table>\n",
       "</div>"
      ],
      "text/plain": [
       "   pretest\n",
       "0     62.0\n",
       "1     66.0\n",
       "2     64.0\n",
       "3     61.0\n",
       "4     64.0"
      ]
     },
     "execution_count": 65,
     "metadata": {},
     "output_type": "execute_result"
    }
   ],
   "source": [
    "df1=data.copy()\n",
    "df1=df1[['pretest']]\n",
    "df1.head()"
   ]
  },
  {
   "cell_type": "code",
   "execution_count": 60,
   "metadata": {},
   "outputs": [
    {
     "data": {
      "text/html": [
       "<div>\n",
       "<style scoped>\n",
       "    .dataframe tbody tr th:only-of-type {\n",
       "        vertical-align: middle;\n",
       "    }\n",
       "\n",
       "    .dataframe tbody tr th {\n",
       "        vertical-align: top;\n",
       "    }\n",
       "\n",
       "    .dataframe thead th {\n",
       "        text-align: right;\n",
       "    }\n",
       "</style>\n",
       "<table border=\"1\" class=\"dataframe\">\n",
       "  <thead>\n",
       "    <tr style=\"text-align: right;\">\n",
       "      <th></th>\n",
       "      <th>school</th>\n",
       "      <th>school_setting</th>\n",
       "      <th>school_type</th>\n",
       "      <th>classroom</th>\n",
       "      <th>teaching_method</th>\n",
       "      <th>n_student</th>\n",
       "      <th>student_id</th>\n",
       "      <th>gender</th>\n",
       "      <th>lunch</th>\n",
       "      <th>pretest</th>\n",
       "    </tr>\n",
       "  </thead>\n",
       "  <tbody>\n",
       "    <tr>\n",
       "      <th>9</th>\n",
       "      <td>ANKYI</td>\n",
       "      <td>Urban</td>\n",
       "      <td>Non-public</td>\n",
       "      <td>6OL</td>\n",
       "      <td>Standard</td>\n",
       "      <td>20.0</td>\n",
       "      <td>D6HT8</td>\n",
       "      <td>Female</td>\n",
       "      <td>Does not qualify</td>\n",
       "      <td>61.0</td>\n",
       "    </tr>\n",
       "    <tr>\n",
       "      <th>10</th>\n",
       "      <td>ANKYI</td>\n",
       "      <td>Urban</td>\n",
       "      <td>Non-public</td>\n",
       "      <td>6OL</td>\n",
       "      <td>Standard</td>\n",
       "      <td>20.0</td>\n",
       "      <td>DZMKU</td>\n",
       "      <td>Male</td>\n",
       "      <td>Does not qualify</td>\n",
       "      <td>61.0</td>\n",
       "    </tr>\n",
       "    <tr>\n",
       "      <th>11</th>\n",
       "      <td>ANKYI</td>\n",
       "      <td>Urban</td>\n",
       "      <td>Non-public</td>\n",
       "      <td>6OL</td>\n",
       "      <td>Standard</td>\n",
       "      <td>20.0</td>\n",
       "      <td>FH7B9</td>\n",
       "      <td>Male</td>\n",
       "      <td>Does not qualify</td>\n",
       "      <td>64.0</td>\n",
       "    </tr>\n",
       "    <tr>\n",
       "      <th>12</th>\n",
       "      <td>ANKYI</td>\n",
       "      <td>Urban</td>\n",
       "      <td>Non-public</td>\n",
       "      <td>6OL</td>\n",
       "      <td>Standard</td>\n",
       "      <td>20.0</td>\n",
       "      <td>JI9VG</td>\n",
       "      <td>Male</td>\n",
       "      <td>Does not qualify</td>\n",
       "      <td>66.0</td>\n",
       "    </tr>\n",
       "    <tr>\n",
       "      <th>13</th>\n",
       "      <td>ANKYI</td>\n",
       "      <td>Urban</td>\n",
       "      <td>Non-public</td>\n",
       "      <td>6OL</td>\n",
       "      <td>Standard</td>\n",
       "      <td>20.0</td>\n",
       "      <td>JQM2W</td>\n",
       "      <td>Female</td>\n",
       "      <td>Does not qualify</td>\n",
       "      <td>60.0</td>\n",
       "    </tr>\n",
       "  </tbody>\n",
       "</table>\n",
       "</div>"
      ],
      "text/plain": [
       "   school school_setting school_type classroom teaching_method  n_student  \\\n",
       "9   ANKYI          Urban  Non-public       6OL        Standard       20.0   \n",
       "10  ANKYI          Urban  Non-public       6OL        Standard       20.0   \n",
       "11  ANKYI          Urban  Non-public       6OL        Standard       20.0   \n",
       "12  ANKYI          Urban  Non-public       6OL        Standard       20.0   \n",
       "13  ANKYI          Urban  Non-public       6OL        Standard       20.0   \n",
       "\n",
       "   student_id  gender             lunch  pretest  \n",
       "9       D6HT8  Female  Does not qualify     61.0  \n",
       "10      DZMKU    Male  Does not qualify     61.0  \n",
       "11      FH7B9    Male  Does not qualify     64.0  \n",
       "12      JI9VG    Male  Does not qualify     66.0  \n",
       "13      JQM2W  Female  Does not qualify     60.0  "
      ]
     },
     "execution_count": 60,
     "metadata": {},
     "output_type": "execute_result"
    }
   ],
   "source": [
    "df=data.iloc[9:,:-1]\n",
    "df.head()"
   ]
  },
  {
   "cell_type": "code",
   "execution_count": 57,
   "metadata": {},
   "outputs": [
    {
     "data": {
      "text/html": [
       "<div>\n",
       "<style scoped>\n",
       "    .dataframe tbody tr th:only-of-type {\n",
       "        vertical-align: middle;\n",
       "    }\n",
       "\n",
       "    .dataframe tbody tr th {\n",
       "        vertical-align: top;\n",
       "    }\n",
       "\n",
       "    .dataframe thead th {\n",
       "        text-align: right;\n",
       "    }\n",
       "</style>\n",
       "<table border=\"1\" class=\"dataframe\">\n",
       "  <thead>\n",
       "    <tr style=\"text-align: right;\">\n",
       "      <th></th>\n",
       "      <th>school</th>\n",
       "      <th>school_setting</th>\n",
       "      <th>school_type</th>\n",
       "      <th>classroom</th>\n",
       "      <th>teaching_method</th>\n",
       "      <th>n_student</th>\n",
       "      <th>student_id</th>\n",
       "      <th>gender</th>\n",
       "      <th>lunch</th>\n",
       "      <th>pretest</th>\n",
       "    </tr>\n",
       "  </thead>\n",
       "  <tbody>\n",
       "    <tr>\n",
       "      <th>0</th>\n",
       "      <td>ANKYI</td>\n",
       "      <td>Urban</td>\n",
       "      <td>Non-public</td>\n",
       "      <td>6OL</td>\n",
       "      <td>Standard</td>\n",
       "      <td>20.0</td>\n",
       "      <td>2FHT3</td>\n",
       "      <td>Female</td>\n",
       "      <td>Does not qualify</td>\n",
       "      <td>62.0</td>\n",
       "    </tr>\n",
       "    <tr>\n",
       "      <th>1</th>\n",
       "      <td>ANKYI</td>\n",
       "      <td>Urban</td>\n",
       "      <td>Non-public</td>\n",
       "      <td>6OL</td>\n",
       "      <td>Standard</td>\n",
       "      <td>20.0</td>\n",
       "      <td>3JIVH</td>\n",
       "      <td>Female</td>\n",
       "      <td>Does not qualify</td>\n",
       "      <td>66.0</td>\n",
       "    </tr>\n",
       "    <tr>\n",
       "      <th>2</th>\n",
       "      <td>ANKYI</td>\n",
       "      <td>Urban</td>\n",
       "      <td>Non-public</td>\n",
       "      <td>6OL</td>\n",
       "      <td>Standard</td>\n",
       "      <td>20.0</td>\n",
       "      <td>3XOWE</td>\n",
       "      <td>Male</td>\n",
       "      <td>Does not qualify</td>\n",
       "      <td>64.0</td>\n",
       "    </tr>\n",
       "    <tr>\n",
       "      <th>3</th>\n",
       "      <td>ANKYI</td>\n",
       "      <td>Urban</td>\n",
       "      <td>Non-public</td>\n",
       "      <td>6OL</td>\n",
       "      <td>Standard</td>\n",
       "      <td>20.0</td>\n",
       "      <td>556O0</td>\n",
       "      <td>Female</td>\n",
       "      <td>Does not qualify</td>\n",
       "      <td>61.0</td>\n",
       "    </tr>\n",
       "    <tr>\n",
       "      <th>4</th>\n",
       "      <td>ANKYI</td>\n",
       "      <td>Urban</td>\n",
       "      <td>Non-public</td>\n",
       "      <td>6OL</td>\n",
       "      <td>Standard</td>\n",
       "      <td>20.0</td>\n",
       "      <td>74LOE</td>\n",
       "      <td>Male</td>\n",
       "      <td>Does not qualify</td>\n",
       "      <td>64.0</td>\n",
       "    </tr>\n",
       "  </tbody>\n",
       "</table>\n",
       "</div>"
      ],
      "text/plain": [
       "  school school_setting school_type classroom teaching_method  n_student  \\\n",
       "0  ANKYI          Urban  Non-public       6OL        Standard       20.0   \n",
       "1  ANKYI          Urban  Non-public       6OL        Standard       20.0   \n",
       "2  ANKYI          Urban  Non-public       6OL        Standard       20.0   \n",
       "3  ANKYI          Urban  Non-public       6OL        Standard       20.0   \n",
       "4  ANKYI          Urban  Non-public       6OL        Standard       20.0   \n",
       "\n",
       "  student_id  gender             lunch  pretest  \n",
       "0      2FHT3  Female  Does not qualify     62.0  \n",
       "1      3JIVH  Female  Does not qualify     66.0  \n",
       "2      3XOWE    Male  Does not qualify     64.0  \n",
       "3      556O0  Female  Does not qualify     61.0  \n",
       "4      74LOE    Male  Does not qualify     64.0  "
      ]
     },
     "execution_count": 57,
     "metadata": {},
     "output_type": "execute_result"
    }
   ],
   "source": [
    "df=data.iloc[:,:-1]\n",
    "df.head()"
   ]
  },
  {
   "cell_type": "code",
   "execution_count": 5,
   "metadata": {
    "execution": {
     "iopub.execute_input": "2021-07-10T09:52:43.201673Z",
     "iopub.status.busy": "2021-07-10T09:52:43.201424Z",
     "iopub.status.idle": "2021-07-10T09:52:43.211909Z",
     "shell.execute_reply": "2021-07-10T09:52:43.210956Z",
     "shell.execute_reply.started": "2021-07-10T09:52:43.201647Z"
    }
   },
   "outputs": [
    {
     "data": {
      "text/plain": [
       "school             0\n",
       "school_setting     0\n",
       "school_type        0\n",
       "classroom          0\n",
       "teaching_method    0\n",
       "n_student          0\n",
       "student_id         0\n",
       "gender             0\n",
       "lunch              0\n",
       "pretest            0\n",
       "posttest           0\n",
       "dtype: int64"
      ]
     },
     "execution_count": 5,
     "metadata": {},
     "output_type": "execute_result"
    }
   ],
   "source": [
    "#Checking Null Values\n",
    "data.isnull().sum()"
   ]
  },
  {
   "cell_type": "code",
   "execution_count": 6,
   "metadata": {
    "execution": {
     "iopub.execute_input": "2021-07-10T09:52:43.213718Z",
     "iopub.status.busy": "2021-07-10T09:52:43.213417Z",
     "iopub.status.idle": "2021-07-10T09:52:43.243738Z",
     "shell.execute_reply": "2021-07-10T09:52:43.242841Z",
     "shell.execute_reply.started": "2021-07-10T09:52:43.213673Z"
    }
   },
   "outputs": [
    {
     "data": {
      "text/html": [
       "<div>\n",
       "<style scoped>\n",
       "    .dataframe tbody tr th:only-of-type {\n",
       "        vertical-align: middle;\n",
       "    }\n",
       "\n",
       "    .dataframe tbody tr th {\n",
       "        vertical-align: top;\n",
       "    }\n",
       "\n",
       "    .dataframe thead th {\n",
       "        text-align: right;\n",
       "    }\n",
       "</style>\n",
       "<table border=\"1\" class=\"dataframe\">\n",
       "  <thead>\n",
       "    <tr style=\"text-align: right;\">\n",
       "      <th></th>\n",
       "      <th>n_student</th>\n",
       "      <th>pretest</th>\n",
       "      <th>posttest</th>\n",
       "    </tr>\n",
       "  </thead>\n",
       "  <tbody>\n",
       "    <tr>\n",
       "      <th>count</th>\n",
       "      <td>2133.000000</td>\n",
       "      <td>2133.000000</td>\n",
       "      <td>2133.000000</td>\n",
       "    </tr>\n",
       "    <tr>\n",
       "      <th>mean</th>\n",
       "      <td>22.796531</td>\n",
       "      <td>54.955931</td>\n",
       "      <td>67.102203</td>\n",
       "    </tr>\n",
       "    <tr>\n",
       "      <th>std</th>\n",
       "      <td>4.228893</td>\n",
       "      <td>13.563101</td>\n",
       "      <td>13.986789</td>\n",
       "    </tr>\n",
       "    <tr>\n",
       "      <th>min</th>\n",
       "      <td>14.000000</td>\n",
       "      <td>22.000000</td>\n",
       "      <td>32.000000</td>\n",
       "    </tr>\n",
       "    <tr>\n",
       "      <th>25%</th>\n",
       "      <td>20.000000</td>\n",
       "      <td>44.000000</td>\n",
       "      <td>56.000000</td>\n",
       "    </tr>\n",
       "    <tr>\n",
       "      <th>50%</th>\n",
       "      <td>22.000000</td>\n",
       "      <td>56.000000</td>\n",
       "      <td>68.000000</td>\n",
       "    </tr>\n",
       "    <tr>\n",
       "      <th>75%</th>\n",
       "      <td>27.000000</td>\n",
       "      <td>65.000000</td>\n",
       "      <td>77.000000</td>\n",
       "    </tr>\n",
       "    <tr>\n",
       "      <th>max</th>\n",
       "      <td>31.000000</td>\n",
       "      <td>93.000000</td>\n",
       "      <td>100.000000</td>\n",
       "    </tr>\n",
       "  </tbody>\n",
       "</table>\n",
       "</div>"
      ],
      "text/plain": [
       "         n_student      pretest     posttest\n",
       "count  2133.000000  2133.000000  2133.000000\n",
       "mean     22.796531    54.955931    67.102203\n",
       "std       4.228893    13.563101    13.986789\n",
       "min      14.000000    22.000000    32.000000\n",
       "25%      20.000000    44.000000    56.000000\n",
       "50%      22.000000    56.000000    68.000000\n",
       "75%      27.000000    65.000000    77.000000\n",
       "max      31.000000    93.000000   100.000000"
      ]
     },
     "execution_count": 6,
     "metadata": {},
     "output_type": "execute_result"
    }
   ],
   "source": [
    "data.describe()"
   ]
  },
  {
   "cell_type": "code",
   "execution_count": 7,
   "metadata": {
    "execution": {
     "iopub.execute_input": "2021-07-10T09:52:43.245819Z",
     "iopub.status.busy": "2021-07-10T09:52:43.245566Z",
     "iopub.status.idle": "2021-07-10T09:52:43.251353Z",
     "shell.execute_reply": "2021-07-10T09:52:43.250130Z",
     "shell.execute_reply.started": "2021-07-10T09:52:43.245793Z"
    }
   },
   "outputs": [],
   "source": [
    "filtered_data=pd.DataFrame(data,columns={\"n_student\",\"pretest\"})"
   ]
  },
  {
   "cell_type": "code",
   "execution_count": 8,
   "metadata": {
    "execution": {
     "iopub.execute_input": "2021-07-10T09:52:43.254565Z",
     "iopub.status.busy": "2021-07-10T09:52:43.254081Z",
     "iopub.status.idle": "2021-07-10T09:52:43.276245Z",
     "shell.execute_reply": "2021-07-10T09:52:43.275095Z",
     "shell.execute_reply.started": "2021-07-10T09:52:43.254517Z"
    }
   },
   "outputs": [
    {
     "data": {
      "text/html": [
       "<div>\n",
       "<style scoped>\n",
       "    .dataframe tbody tr th:only-of-type {\n",
       "        vertical-align: middle;\n",
       "    }\n",
       "\n",
       "    .dataframe tbody tr th {\n",
       "        vertical-align: top;\n",
       "    }\n",
       "\n",
       "    .dataframe thead th {\n",
       "        text-align: right;\n",
       "    }\n",
       "</style>\n",
       "<table border=\"1\" class=\"dataframe\">\n",
       "  <thead>\n",
       "    <tr style=\"text-align: right;\">\n",
       "      <th></th>\n",
       "      <th>n_student</th>\n",
       "      <th>pretest</th>\n",
       "      <th>posttest</th>\n",
       "    </tr>\n",
       "  </thead>\n",
       "  <tbody>\n",
       "    <tr>\n",
       "      <th>n_student</th>\n",
       "      <td>1.000000</td>\n",
       "      <td>-0.499253</td>\n",
       "      <td>-0.504886</td>\n",
       "    </tr>\n",
       "    <tr>\n",
       "      <th>pretest</th>\n",
       "      <td>-0.499253</td>\n",
       "      <td>1.000000</td>\n",
       "      <td>0.950884</td>\n",
       "    </tr>\n",
       "    <tr>\n",
       "      <th>posttest</th>\n",
       "      <td>-0.504886</td>\n",
       "      <td>0.950884</td>\n",
       "      <td>1.000000</td>\n",
       "    </tr>\n",
       "  </tbody>\n",
       "</table>\n",
       "</div>"
      ],
      "text/plain": [
       "           n_student   pretest  posttest\n",
       "n_student   1.000000 -0.499253 -0.504886\n",
       "pretest    -0.499253  1.000000  0.950884\n",
       "posttest   -0.504886  0.950884  1.000000"
      ]
     },
     "execution_count": 8,
     "metadata": {},
     "output_type": "execute_result"
    }
   ],
   "source": [
    "data.corr()"
   ]
  },
  {
   "cell_type": "code",
   "execution_count": 9,
   "metadata": {
    "execution": {
     "iopub.execute_input": "2021-07-10T09:52:43.277899Z",
     "iopub.status.busy": "2021-07-10T09:52:43.277617Z",
     "iopub.status.idle": "2021-07-10T09:52:43.664809Z",
     "shell.execute_reply": "2021-07-10T09:52:43.663887Z",
     "shell.execute_reply.started": "2021-07-10T09:52:43.277870Z"
    }
   },
   "outputs": [
    {
     "data": {
      "image/png": "[encoded data removed]",
      "text/plain": [
       "<Figure size 1440x1440 with 2 Axes>"
      ]
     },
     "metadata": {
      "needs_background": "light"
     },
     "output_type": "display_data"
    }
   ],
   "source": [
    "#get correlations of each features in dataset\n",
    "corrmat = data.corr()\n",
    "#top_corr_features = corrmat.index\n",
    "plt.figure(figsize=(20,20))\n",
    "#plot heat map\n",
    "g=sns.heatmap(data.corr(),annot=True,cmap=\"RdYlGn\")"
   ]
  },
  {
   "cell_type": "code",
   "execution_count": 10,
   "metadata": {
    "execution": {
     "iopub.execute_input": "2021-07-10T09:52:43.666496Z",
     "iopub.status.busy": "2021-07-10T09:52:43.666202Z",
     "iopub.status.idle": "2021-07-10T09:52:43.688626Z",
     "shell.execute_reply": "2021-07-10T09:52:43.687595Z",
     "shell.execute_reply.started": "2021-07-10T09:52:43.666468Z"
    }
   },
   "outputs": [
    {
     "name": "stdout",
     "output_type": "stream",
     "text": [
      "<class 'pandas.core.frame.DataFrame'>\n",
      "RangeIndex: 2133 entries, 0 to 2132\n",
      "Data columns (total 11 columns):\n",
      " #   Column           Non-Null Count  Dtype  \n",
      "---  ------           --------------  -----  \n",
      " 0   school           2133 non-null   object \n",
      " 1   school_setting   2133 non-null   object \n",
      " 2   school_type      2133 non-null   object \n",
      " 3   classroom        2133 non-null   object \n",
      " 4   teaching_method  2133 non-null   object \n",
      " 5   n_student        2133 non-null   float64\n",
      " 6   student_id       2133 non-null   object \n",
      " 7   gender           2133 non-null   object \n",
      " 8   lunch            2133 non-null   object \n",
      " 9   pretest          2133 non-null   float64\n",
      " 10  posttest         2133 non-null   float64\n",
      "dtypes: float64(3), object(8)\n",
      "memory usage: 183.4+ KB\n"
     ]
    }
   ],
   "source": [
    "data.info()"
   ]
  },
  {
   "cell_type": "markdown",
   "metadata": {},
   "source": [
    "****Exploratory Data Analysis****"
   ]
  },
  {
   "cell_type": "code",
   "execution_count": 11,
   "metadata": {
    "execution": {
     "iopub.execute_input": "2021-07-10T09:52:43.690276Z",
     "iopub.status.busy": "2021-07-10T09:52:43.689984Z",
     "iopub.status.idle": "2021-07-10T09:52:43.699163Z",
     "shell.execute_reply": "2021-07-10T09:52:43.698060Z",
     "shell.execute_reply.started": "2021-07-10T09:52:43.690247Z"
    }
   },
   "outputs": [
    {
     "data": {
      "text/plain": [
       "Standard        1373\n",
       "Experimental     760\n",
       "Name: teaching_method, dtype: int64"
      ]
     },
     "execution_count": 11,
     "metadata": {},
     "output_type": "execute_result"
    }
   ],
   "source": [
    "data.teaching_method.value_counts()"
   ]
  },
  {
   "cell_type": "code",
   "execution_count": 12,
   "metadata": {
    "execution": {
     "iopub.execute_input": "2021-07-10T09:52:43.701783Z",
     "iopub.status.busy": "2021-07-10T09:52:43.700931Z",
     "iopub.status.idle": "2021-07-10T09:52:43.840988Z",
     "shell.execute_reply": "2021-07-10T09:52:43.839949Z",
     "shell.execute_reply.started": "2021-07-10T09:52:43.701734Z"
    }
   },
   "outputs": [
    {
     "data": {
      "text/plain": [
       "<matplotlib.axes._subplots.AxesSubplot at 0x7f9096280e80>"
      ]
     },
     "execution_count": 12,
     "metadata": {},
     "output_type": "execute_result"
    },
    {
     "data": {
      "image/png": "[encoded data removed]",
      "text/plain": [
       "<Figure size 432x288 with 1 Axes>"
      ]
     },
     "metadata": {
      "needs_background": "light"
     },
     "output_type": "display_data"
    }
   ],
   "source": [
    "#checking for Semester\n",
    "sns.countplot('teaching_method',data=data)"
   ]
  },
  {
   "cell_type": "code",
   "execution_count": 13,
   "metadata": {
    "execution": {
     "iopub.execute_input": "2021-07-10T09:52:43.842617Z",
     "iopub.status.busy": "2021-07-10T09:52:43.842322Z",
     "iopub.status.idle": "2021-07-10T09:52:43.971650Z",
     "shell.execute_reply": "2021-07-10T09:52:43.970586Z",
     "shell.execute_reply.started": "2021-07-10T09:52:43.842583Z"
    }
   },
   "outputs": [
    {
     "data": {
      "text/plain": [
       "<matplotlib.axes._subplots.AxesSubplot at 0x7f90962808d0>"
      ]
     },
     "execution_count": 13,
     "metadata": {},
     "output_type": "execute_result"
    },
    {
     "data": {
      "image/png": "[encoded data removed]",
      "text/plain": [
       "<Figure size 432x288 with 1 Axes>"
      ]
     },
     "metadata": {
      "needs_background": "light"
     },
     "output_type": "display_data"
    }
   ],
   "source": [
    "#checking for Semester\n",
    "sns.countplot('lunch',data=data)"
   ]
  },
  {
   "cell_type": "code",
   "execution_count": 14,
   "metadata": {
    "execution": {
     "iopub.execute_input": "2021-07-10T09:52:43.973268Z",
     "iopub.status.busy": "2021-07-10T09:52:43.972972Z",
     "iopub.status.idle": "2021-07-10T09:52:44.112493Z",
     "shell.execute_reply": "2021-07-10T09:52:44.111439Z",
     "shell.execute_reply.started": "2021-07-10T09:52:43.973239Z"
    }
   },
   "outputs": [
    {
     "data": {
      "text/plain": [
       "<matplotlib.axes._subplots.AxesSubplot at 0x7f90970925f8>"
      ]
     },
     "execution_count": 14,
     "metadata": {},
     "output_type": "execute_result"
    },
    {
     "data": {
      "image/png": "[encoded data removed]",
      "text/plain": [
       "<Figure size 432x288 with 1 Axes>"
      ]
     },
     "metadata": {
      "needs_background": "light"
     },
     "output_type": "display_data"
    }
   ],
   "source": [
    "#checking for Semester\n",
    "sns.countplot('school_type',data=data)"
   ]
  },
  {
   "cell_type": "code",
   "execution_count": 15,
   "metadata": {
    "execution": {
     "iopub.execute_input": "2021-07-10T09:52:44.114147Z",
     "iopub.status.busy": "2021-07-10T09:52:44.113832Z",
     "iopub.status.idle": "2021-07-10T09:52:44.244817Z",
     "shell.execute_reply": "2021-07-10T09:52:44.243757Z",
     "shell.execute_reply.started": "2021-07-10T09:52:44.114117Z"
    }
   },
   "outputs": [
    {
     "data": {
      "text/plain": [
       "<matplotlib.axes._subplots.AxesSubplot at 0x7f909707e128>"
      ]
     },
     "execution_count": 15,
     "metadata": {},
     "output_type": "execute_result"
    },
    {
     "data": {
      "image/png": "[encoded data removed]",
      "text/plain": [
       "<Figure size 432x288 with 1 Axes>"
      ]
     },
     "metadata": {
      "needs_background": "light"
     },
     "output_type": "display_data"
    }
   ],
   "source": [
    "#checking for Semester\n",
    "sns.countplot('teaching_method',data=data)"
   ]
  },
  {
   "cell_type": "code",
   "execution_count": 16,
   "metadata": {
    "execution": {
     "iopub.execute_input": "2021-07-10T09:52:44.246431Z",
     "iopub.status.busy": "2021-07-10T09:52:44.246143Z",
     "iopub.status.idle": "2021-07-10T09:52:44.253656Z",
     "shell.execute_reply": "2021-07-10T09:52:44.252632Z",
     "shell.execute_reply.started": "2021-07-10T09:52:44.246402Z"
    }
   },
   "outputs": [
    {
     "data": {
      "text/plain": [
       "array(['ANKYI', 'CCAAW', 'CIMBB', 'CUQAM', 'DNQDD', 'FBUMG', 'GJJHK',\n",
       "       'GOKXL', 'GOOBU', 'IDGFP', 'KFZMY', 'KZKKE', 'LAYPA', 'OJOBU',\n",
       "       'QOQTS', 'UAGPU', 'UKPGS', 'UUUQX', 'VHDHF', 'VKWQH', 'VVTVA',\n",
       "       'ZMNYA', 'ZOWMK'], dtype=object)"
      ]
     },
     "execution_count": 16,
     "metadata": {},
     "output_type": "execute_result"
    }
   ],
   "source": [
    "data.school.unique()"
   ]
  },
  {
   "cell_type": "code",
   "execution_count": 17,
   "metadata": {
    "execution": {
     "iopub.execute_input": "2021-07-10T09:52:44.255204Z",
     "iopub.status.busy": "2021-07-10T09:52:44.254917Z",
     "iopub.status.idle": "2021-07-10T09:52:44.269171Z",
     "shell.execute_reply": "2021-07-10T09:52:44.268038Z",
     "shell.execute_reply.started": "2021-07-10T09:52:44.255177Z"
    }
   },
   "outputs": [
    {
     "data": {
      "text/plain": [
       "GOOBU    158\n",
       "QOQTS    149\n",
       "UKPGS    128\n",
       "DNQDD    122\n",
       "GJJHK    118\n",
       "ZOWMK    117\n",
       "VVTVA    114\n",
       "KZKKE    111\n",
       "CCAAW    109\n",
       "CUQAM    107\n",
       "VKWQH    100\n",
       "IDGFP     94\n",
       "UAGPU     87\n",
       "UUUQX     84\n",
       "OJOBU     81\n",
       "CIMBB     74\n",
       "ZMNYA     69\n",
       "GOKXL     64\n",
       "LAYPA     57\n",
       "KFZMY     52\n",
       "VHDHF     51\n",
       "FBUMG     46\n",
       "ANKYI     41\n",
       "Name: school, dtype: int64"
      ]
     },
     "execution_count": 17,
     "metadata": {},
     "output_type": "execute_result"
    }
   ],
   "source": [
    "data.school.value_counts()"
   ]
  },
  {
   "cell_type": "code",
   "execution_count": 18,
   "metadata": {
    "execution": {
     "iopub.execute_input": "2021-07-10T09:52:44.270654Z",
     "iopub.status.busy": "2021-07-10T09:52:44.270317Z",
     "iopub.status.idle": "2021-07-10T09:52:44.281727Z",
     "shell.execute_reply": "2021-07-10T09:52:44.280576Z",
     "shell.execute_reply.started": "2021-07-10T09:52:44.270623Z"
    }
   },
   "outputs": [
    {
     "data": {
      "text/plain": [
       "Index(['school', 'school_setting', 'school_type', 'classroom',\n",
       "       'teaching_method', 'n_student', 'student_id', 'gender', 'lunch',\n",
       "       'pretest', 'posttest'],\n",
       "      dtype='object')"
      ]
     },
     "execution_count": 18,
     "metadata": {},
     "output_type": "execute_result"
    }
   ],
   "source": [
    "data.columns"
   ]
  },
  {
   "cell_type": "code",
   "execution_count": 19,
   "metadata": {
    "execution": {
     "iopub.execute_input": "2021-07-10T09:52:44.285901Z",
     "iopub.status.busy": "2021-07-10T09:52:44.285509Z",
     "iopub.status.idle": "2021-07-10T09:52:44.298502Z",
     "shell.execute_reply": "2021-07-10T09:52:44.297475Z",
     "shell.execute_reply.started": "2021-07-10T09:52:44.285869Z"
    }
   },
   "outputs": [
    {
     "data": {
      "text/plain": [
       "18K    31\n",
       "ZBH    30\n",
       "Q0E    30\n",
       "A93    30\n",
       "QA2    30\n",
       "       ..\n",
       "KR1    15\n",
       "SSP    15\n",
       "IQN    15\n",
       "JGD    14\n",
       "197    14\n",
       "Name: classroom, Length: 97, dtype: int64"
      ]
     },
     "execution_count": 19,
     "metadata": {},
     "output_type": "execute_result"
    }
   ],
   "source": [
    "data.classroom.value_counts()"
   ]
  },
  {
   "cell_type": "code",
   "execution_count": 20,
   "metadata": {
    "execution": {
     "iopub.execute_input": "2021-07-10T09:52:44.301065Z",
     "iopub.status.busy": "2021-07-10T09:52:44.300748Z",
     "iopub.status.idle": "2021-07-10T09:52:44.314868Z",
     "shell.execute_reply": "2021-07-10T09:52:44.313869Z",
     "shell.execute_reply.started": "2021-07-10T09:52:44.301033Z"
    }
   },
   "outputs": [
    {
     "data": {
      "text/plain": [
       "array(['6OL', 'ZNS', '2B1', 'EPS', 'IQN', 'PGK', 'UHU', 'UWK', 'A33',\n",
       "       'EID', 'HUJ', 'PC6', '1Q1', 'BFY', 'OMI', 'X6Z', '2AP', 'PW5',\n",
       "       'ROP', 'ST7', 'XXJ', '197', '5LQ', 'JGD', 'HCB', 'NOR', 'X78',\n",
       "       'YUC', 'ZDT', 'ENO', 'TSA', 'VA6', '18K', 'CXC', 'HKF', 'PBA',\n",
       "       'U6J', 'W8A', '05H', '98D', 'G2L', 'P2A', 'XZM', '1VD', '21Q',\n",
       "       '2BR', '3D0', '5JK', 'O6A', 'QTU', 'AJ1', 'J8J', 'RA5', '5SZ',\n",
       "       '6U9', 'FS3', 'XJ8', '0N7', '3XJ', 'RK7', 'SUR', 'X2O', 'XZ4',\n",
       "       '1SZ', '62L', 'NWZ', 'S98', '08N', '9AW', 'IPU', 'KXB', 'PGH',\n",
       "       'XXE', '6C1', 'AE1', 'H7S', 'P8I', 'SSP', 'CD8', 'J6X', 'KR1',\n",
       "       '341', 'D33', 'DFQ', 'GYM', 'IEM', '7BL', 'A93', 'TB5', 'YTB',\n",
       "       '1UU', '4NN', 'V77', 'CII', 'Q0E', 'QA2', 'ZBH'], dtype=object)"
      ]
     },
     "execution_count": 20,
     "metadata": {},
     "output_type": "execute_result"
    }
   ],
   "source": [
    "data.classroom.unique()"
   ]
  },
  {
   "cell_type": "markdown",
   "metadata": {},
   "source": [
    "# Feature Engineering"
   ]
  },
  {
   "cell_type": "code",
   "execution_count": 21,
   "metadata": {
    "execution": {
     "iopub.execute_input": "2021-07-10T09:52:44.316533Z",
     "iopub.status.busy": "2021-07-10T09:52:44.316169Z",
     "iopub.status.idle": "2021-07-10T09:52:44.331958Z",
     "shell.execute_reply": "2021-07-10T09:52:44.330974Z",
     "shell.execute_reply.started": "2021-07-10T09:52:44.316502Z"
    }
   },
   "outputs": [],
   "source": [
    "Numerical_features=pd.DataFrame(data,columns={\"n_student\",\"pretest\"})"
   ]
  },
  {
   "cell_type": "markdown",
   "metadata": {},
   "source": [
    "**One-hot encoding**"
   ]
  },
  {
   "cell_type": "code",
   "execution_count": 22,
   "metadata": {
    "execution": {
     "iopub.execute_input": "2021-07-10T09:52:44.333845Z",
     "iopub.status.busy": "2021-07-10T09:52:44.333471Z",
     "iopub.status.idle": "2021-07-10T09:52:44.363982Z",
     "shell.execute_reply": "2021-07-10T09:52:44.362915Z",
     "shell.execute_reply.started": "2021-07-10T09:52:44.333813Z"
    }
   },
   "outputs": [
    {
     "data": {
      "text/html": [
       "<div>\n",
       "<style scoped>\n",
       "    .dataframe tbody tr th:only-of-type {\n",
       "        vertical-align: middle;\n",
       "    }\n",
       "\n",
       "    .dataframe tbody tr th {\n",
       "        vertical-align: top;\n",
       "    }\n",
       "\n",
       "    .dataframe thead th {\n",
       "        text-align: right;\n",
       "    }\n",
       "</style>\n",
       "<table border=\"1\" class=\"dataframe\">\n",
       "  <thead>\n",
       "    <tr style=\"text-align: right;\">\n",
       "      <th></th>\n",
       "      <th>school_setting_Suburban</th>\n",
       "      <th>school_setting_Urban</th>\n",
       "      <th>school_type_Public</th>\n",
       "      <th>gender_Male</th>\n",
       "      <th>teaching_method_Standard</th>\n",
       "      <th>lunch_Qualifies for reduced/free lunch</th>\n",
       "    </tr>\n",
       "  </thead>\n",
       "  <tbody>\n",
       "    <tr>\n",
       "      <th>0</th>\n",
       "      <td>0</td>\n",
       "      <td>1</td>\n",
       "      <td>0</td>\n",
       "      <td>0</td>\n",
       "      <td>1</td>\n",
       "      <td>0</td>\n",
       "    </tr>\n",
       "    <tr>\n",
       "      <th>1</th>\n",
       "      <td>0</td>\n",
       "      <td>1</td>\n",
       "      <td>0</td>\n",
       "      <td>0</td>\n",
       "      <td>1</td>\n",
       "      <td>0</td>\n",
       "    </tr>\n",
       "    <tr>\n",
       "      <th>2</th>\n",
       "      <td>0</td>\n",
       "      <td>1</td>\n",
       "      <td>0</td>\n",
       "      <td>1</td>\n",
       "      <td>1</td>\n",
       "      <td>0</td>\n",
       "    </tr>\n",
       "    <tr>\n",
       "      <th>3</th>\n",
       "      <td>0</td>\n",
       "      <td>1</td>\n",
       "      <td>0</td>\n",
       "      <td>0</td>\n",
       "      <td>1</td>\n",
       "      <td>0</td>\n",
       "    </tr>\n",
       "    <tr>\n",
       "      <th>4</th>\n",
       "      <td>0</td>\n",
       "      <td>1</td>\n",
       "      <td>0</td>\n",
       "      <td>1</td>\n",
       "      <td>1</td>\n",
       "      <td>0</td>\n",
       "    </tr>\n",
       "  </tbody>\n",
       "</table>\n",
       "</div>"
      ],
      "text/plain": [
       "   school_setting_Suburban  school_setting_Urban  school_type_Public  \\\n",
       "0                        0                     1                   0   \n",
       "1                        0                     1                   0   \n",
       "2                        0                     1                   0   \n",
       "3                        0                     1                   0   \n",
       "4                        0                     1                   0   \n",
       "\n",
       "   gender_Male  teaching_method_Standard  \\\n",
       "0            0                         1   \n",
       "1            0                         1   \n",
       "2            1                         1   \n",
       "3            0                         1   \n",
       "4            1                         1   \n",
       "\n",
       "   lunch_Qualifies for reduced/free lunch  \n",
       "0                                       0  \n",
       "1                                       0  \n",
       "2                                       0  \n",
       "3                                       0  \n",
       "4                                       0  "
      ]
     },
     "execution_count": 22,
     "metadata": {},
     "output_type": "execute_result"
    }
   ],
   "source": [
    "#feature for one hot encoding\n",
    "#school_setting,school_type,classroom,teaching_method,gender,lunch\n",
    "one_hot_encoding_feature=pd.DataFrame(data,columns={\"school_setting\",\"school_type\",\"teaching_method\",\"gender\",\"lunch\"})\n",
    "#performing one hot encoding on the feature Course\n",
    "one_hot_encoding_feature_performing= pd.get_dummies(one_hot_encoding_feature,drop_first=True)\n",
    "one_hot_encoding_feature_performing.head()"
   ]
  },
  {
   "cell_type": "code",
   "execution_count": 23,
   "metadata": {
    "execution": {
     "iopub.execute_input": "2021-07-10T09:52:44.365978Z",
     "iopub.status.busy": "2021-07-10T09:52:44.365557Z",
     "iopub.status.idle": "2021-07-10T09:52:44.375305Z",
     "shell.execute_reply": "2021-07-10T09:52:44.374387Z",
     "shell.execute_reply.started": "2021-07-10T09:52:44.365914Z"
    }
   },
   "outputs": [
    {
     "data": {
      "text/plain": [
       "(2133, 6)"
      ]
     },
     "execution_count": 23,
     "metadata": {},
     "output_type": "execute_result"
    }
   ],
   "source": [
    "one_hot_encoding_feature_performing.shape"
   ]
  },
  {
   "cell_type": "markdown",
   "metadata": {},
   "source": []
  },
  {
   "cell_type": "markdown",
   "metadata": {},
   "source": [
    "**Performed one-hot encoding on most 5 frequent categories and put 0 for remaining.**"
   ]
  },
  {
   "cell_type": "code",
   "execution_count": 24,
   "metadata": {
    "execution": {
     "iopub.execute_input": "2021-07-10T10:40:08.251372Z",
     "iopub.status.busy": "2021-07-10T10:40:08.250924Z",
     "iopub.status.idle": "2021-07-10T10:40:08.257872Z",
     "shell.execute_reply": "2021-07-10T10:40:08.257136Z",
     "shell.execute_reply.started": "2021-07-10T10:40:08.251337Z"
    }
   },
   "outputs": [],
   "source": [
    "one_hot_encoding_on_most_frequent_categories=data.copy()\n",
    "one_hot_encoding_on_most_frequent_categories1=pd.DataFrame(one_hot_encoding_on_most_frequent_categories,columns={\"school\",\"classroom\"})"
   ]
  },
  {
   "cell_type": "code",
   "execution_count": 25,
   "metadata": {
    "execution": {
     "iopub.execute_input": "2021-07-10T10:40:13.106561Z",
     "iopub.status.busy": "2021-07-10T10:40:13.105898Z",
     "iopub.status.idle": "2021-07-10T10:40:13.113650Z",
     "shell.execute_reply": "2021-07-10T10:40:13.112951Z",
     "shell.execute_reply.started": "2021-07-10T10:40:13.106518Z"
    }
   },
   "outputs": [
    {
     "name": "stdout",
     "output_type": "stream",
     "text": [
      "school : 23 labels\n",
      "classroom : 97 labels\n"
     ]
    }
   ],
   "source": [
    "#Checking the categories in the dataset\n",
    "for i in one_hot_encoding_on_most_frequent_categories1.columns:\n",
    "    print(i,\":\",len(one_hot_encoding_on_most_frequent_categories[i].unique()),\"labels\")"
   ]
  },
  {
   "cell_type": "code",
   "execution_count": 26,
   "metadata": {
    "execution": {
     "iopub.execute_input": "2021-07-10T10:40:19.361380Z",
     "iopub.status.busy": "2021-07-10T10:40:19.360726Z",
     "iopub.status.idle": "2021-07-10T10:40:19.371435Z",
     "shell.execute_reply": "2021-07-10T10:40:19.370472Z",
     "shell.execute_reply.started": "2021-07-10T10:40:19.361340Z"
    }
   },
   "outputs": [
    {
     "data": {
      "text/plain": [
       "GOOBU    158\n",
       "QOQTS    149\n",
       "UKPGS    128\n",
       "DNQDD    122\n",
       "GJJHK    118\n",
       "ZOWMK    117\n",
       "VVTVA    114\n",
       "KZKKE    111\n",
       "CCAAW    109\n",
       "CUQAM    107\n",
       "Name: school, dtype: int64"
      ]
     },
     "execution_count": 26,
     "metadata": {},
     "output_type": "execute_result"
    }
   ],
   "source": [
    "one_hot_encoding_on_most_frequent_categories1.school.value_counts().sort_values(ascending=False).head(10)"
   ]
  },
  {
   "cell_type": "code",
   "execution_count": 27,
   "metadata": {
    "execution": {
     "iopub.execute_input": "2021-07-10T10:40:26.074373Z",
     "iopub.status.busy": "2021-07-10T10:40:26.073961Z",
     "iopub.status.idle": "2021-07-10T10:40:26.085261Z",
     "shell.execute_reply": "2021-07-10T10:40:26.084028Z",
     "shell.execute_reply.started": "2021-07-10T10:40:26.074339Z"
    }
   },
   "outputs": [
    {
     "data": {
      "text/plain": [
       "18K    31\n",
       "ZBH    30\n",
       "Q0E    30\n",
       "A93    30\n",
       "QA2    30\n",
       "YTB    30\n",
       "7BL    29\n",
       "1Q1    28\n",
       "SUR    28\n",
       "ROP    28\n",
       "Name: classroom, dtype: int64"
      ]
     },
     "execution_count": 27,
     "metadata": {},
     "output_type": "execute_result"
    }
   ],
   "source": [
    "one_hot_encoding_on_most_frequent_categories1.classroom.value_counts().sort_values(ascending=False).head(10)"
   ]
  },
  {
   "cell_type": "code",
   "execution_count": 28,
   "metadata": {
    "execution": {
     "iopub.execute_input": "2021-07-10T10:40:34.438442Z",
     "iopub.status.busy": "2021-07-10T10:40:34.438044Z",
     "iopub.status.idle": "2021-07-10T10:40:34.447291Z",
     "shell.execute_reply": "2021-07-10T10:40:34.446314Z",
     "shell.execute_reply.started": "2021-07-10T10:40:34.438405Z"
    }
   },
   "outputs": [
    {
     "data": {
      "text/plain": [
       "['GOOBU',\n",
       " 'QOQTS',\n",
       " 'UKPGS',\n",
       " 'DNQDD',\n",
       " 'GJJHK',\n",
       " 'ZOWMK',\n",
       " 'VVTVA',\n",
       " 'KZKKE',\n",
       " 'CCAAW',\n",
       " 'CUQAM']"
      ]
     },
     "execution_count": 28,
     "metadata": {},
     "output_type": "execute_result"
    }
   ],
   "source": [
    "#print top 10 features for CourseInstructor_10\n",
    "school_10=one_hot_encoding_on_most_frequent_categories1.school.value_counts().sort_values(ascending=False).head(10).index\n",
    "school_10=list(school_10)\n",
    "school_10"
   ]
  },
  {
   "cell_type": "code",
   "execution_count": 29,
   "metadata": {
    "execution": {
     "iopub.execute_input": "2021-07-10T10:40:43.398915Z",
     "iopub.status.busy": "2021-07-10T10:40:43.398542Z",
     "iopub.status.idle": "2021-07-10T10:40:43.408327Z",
     "shell.execute_reply": "2021-07-10T10:40:43.407279Z",
     "shell.execute_reply.started": "2021-07-10T10:40:43.398882Z"
    }
   },
   "outputs": [
    {
     "data": {
      "text/plain": [
       "['18K', 'ZBH', 'Q0E', 'A93', 'QA2', 'YTB', '7BL', '1Q1', 'SUR', 'ROP']"
      ]
     },
     "execution_count": 29,
     "metadata": {},
     "output_type": "execute_result"
    }
   ],
   "source": [
    "#print top 10 features for CourseInstructor_10\n",
    "classroom_10=one_hot_encoding_on_most_frequent_categories1.classroom.value_counts().sort_values(ascending=False).head(10).index\n",
    "classroom_10=list(classroom_10)\n",
    "classroom_10"
   ]
  },
  {
   "cell_type": "code",
   "execution_count": 30,
   "metadata": {
    "execution": {
     "iopub.execute_input": "2021-07-10T10:41:06.081885Z",
     "iopub.status.busy": "2021-07-10T10:41:06.081266Z",
     "iopub.status.idle": "2021-07-10T10:41:06.095329Z",
     "shell.execute_reply": "2021-07-10T10:41:06.094436Z",
     "shell.execute_reply.started": "2021-07-10T10:41:06.081828Z"
    }
   },
   "outputs": [],
   "source": [
    "import numpy as np\n",
    "for categories in school_10:\n",
    "    one_hot_encoding_on_most_frequent_categories1[categories]=np.where(one_hot_encoding_on_most_frequent_categories1['school']==categories,1,0)"
   ]
  },
  {
   "cell_type": "code",
   "execution_count": 31,
   "metadata": {
    "execution": {
     "iopub.execute_input": "2021-07-10T10:41:10.411772Z",
     "iopub.status.busy": "2021-07-10T10:41:10.411352Z",
     "iopub.status.idle": "2021-07-10T10:41:10.427556Z",
     "shell.execute_reply": "2021-07-10T10:41:10.426557Z",
     "shell.execute_reply.started": "2021-07-10T10:41:10.411730Z"
    }
   },
   "outputs": [
    {
     "data": {
      "text/html": [
       "<div>\n",
       "<style scoped>\n",
       "    .dataframe tbody tr th:only-of-type {\n",
       "        vertical-align: middle;\n",
       "    }\n",
       "\n",
       "    .dataframe tbody tr th {\n",
       "        vertical-align: top;\n",
       "    }\n",
       "\n",
       "    .dataframe thead th {\n",
       "        text-align: right;\n",
       "    }\n",
       "</style>\n",
       "<table border=\"1\" class=\"dataframe\">\n",
       "  <thead>\n",
       "    <tr style=\"text-align: right;\">\n",
       "      <th></th>\n",
       "      <th>school</th>\n",
       "      <th>classroom</th>\n",
       "      <th>GOOBU</th>\n",
       "      <th>QOQTS</th>\n",
       "      <th>UKPGS</th>\n",
       "      <th>DNQDD</th>\n",
       "      <th>GJJHK</th>\n",
       "      <th>ZOWMK</th>\n",
       "      <th>VVTVA</th>\n",
       "      <th>KZKKE</th>\n",
       "      <th>CCAAW</th>\n",
       "      <th>CUQAM</th>\n",
       "    </tr>\n",
       "  </thead>\n",
       "  <tbody>\n",
       "    <tr>\n",
       "      <th>0</th>\n",
       "      <td>ANKYI</td>\n",
       "      <td>6OL</td>\n",
       "      <td>0</td>\n",
       "      <td>0</td>\n",
       "      <td>0</td>\n",
       "      <td>0</td>\n",
       "      <td>0</td>\n",
       "      <td>0</td>\n",
       "      <td>0</td>\n",
       "      <td>0</td>\n",
       "      <td>0</td>\n",
       "      <td>0</td>\n",
       "    </tr>\n",
       "    <tr>\n",
       "      <th>1</th>\n",
       "      <td>ANKYI</td>\n",
       "      <td>6OL</td>\n",
       "      <td>0</td>\n",
       "      <td>0</td>\n",
       "      <td>0</td>\n",
       "      <td>0</td>\n",
       "      <td>0</td>\n",
       "      <td>0</td>\n",
       "      <td>0</td>\n",
       "      <td>0</td>\n",
       "      <td>0</td>\n",
       "      <td>0</td>\n",
       "    </tr>\n",
       "    <tr>\n",
       "      <th>2</th>\n",
       "      <td>ANKYI</td>\n",
       "      <td>6OL</td>\n",
       "      <td>0</td>\n",
       "      <td>0</td>\n",
       "      <td>0</td>\n",
       "      <td>0</td>\n",
       "      <td>0</td>\n",
       "      <td>0</td>\n",
       "      <td>0</td>\n",
       "      <td>0</td>\n",
       "      <td>0</td>\n",
       "      <td>0</td>\n",
       "    </tr>\n",
       "    <tr>\n",
       "      <th>3</th>\n",
       "      <td>ANKYI</td>\n",
       "      <td>6OL</td>\n",
       "      <td>0</td>\n",
       "      <td>0</td>\n",
       "      <td>0</td>\n",
       "      <td>0</td>\n",
       "      <td>0</td>\n",
       "      <td>0</td>\n",
       "      <td>0</td>\n",
       "      <td>0</td>\n",
       "      <td>0</td>\n",
       "      <td>0</td>\n",
       "    </tr>\n",
       "    <tr>\n",
       "      <th>4</th>\n",
       "      <td>ANKYI</td>\n",
       "      <td>6OL</td>\n",
       "      <td>0</td>\n",
       "      <td>0</td>\n",
       "      <td>0</td>\n",
       "      <td>0</td>\n",
       "      <td>0</td>\n",
       "      <td>0</td>\n",
       "      <td>0</td>\n",
       "      <td>0</td>\n",
       "      <td>0</td>\n",
       "      <td>0</td>\n",
       "    </tr>\n",
       "  </tbody>\n",
       "</table>\n",
       "</div>"
      ],
      "text/plain": [
       "  school classroom  GOOBU  QOQTS  UKPGS  DNQDD  GJJHK  ZOWMK  VVTVA  KZKKE  \\\n",
       "0  ANKYI       6OL      0      0      0      0      0      0      0      0   \n",
       "1  ANKYI       6OL      0      0      0      0      0      0      0      0   \n",
       "2  ANKYI       6OL      0      0      0      0      0      0      0      0   \n",
       "3  ANKYI       6OL      0      0      0      0      0      0      0      0   \n",
       "4  ANKYI       6OL      0      0      0      0      0      0      0      0   \n",
       "\n",
       "   CCAAW  CUQAM  \n",
       "0      0      0  \n",
       "1      0      0  \n",
       "2      0      0  \n",
       "3      0      0  \n",
       "4      0      0  "
      ]
     },
     "execution_count": 31,
     "metadata": {},
     "output_type": "execute_result"
    }
   ],
   "source": [
    "one_hot_encoding_on_most_frequent_categories1.head()"
   ]
  },
  {
   "cell_type": "code",
   "execution_count": 32,
   "metadata": {
    "execution": {
     "iopub.execute_input": "2021-07-10T10:41:44.836531Z",
     "iopub.status.busy": "2021-07-10T10:41:44.836149Z",
     "iopub.status.idle": "2021-07-10T10:41:44.850980Z",
     "shell.execute_reply": "2021-07-10T10:41:44.849979Z",
     "shell.execute_reply.started": "2021-07-10T10:41:44.836499Z"
    }
   },
   "outputs": [],
   "source": [
    "import numpy as np\n",
    "for categories in classroom_10:\n",
    "    one_hot_encoding_on_most_frequent_categories1[categories]=np.where(one_hot_encoding_on_most_frequent_categories1['classroom']==categories,1,0)"
   ]
  },
  {
   "cell_type": "code",
   "execution_count": 33,
   "metadata": {
    "execution": {
     "iopub.execute_input": "2021-07-10T10:41:49.391930Z",
     "iopub.status.busy": "2021-07-10T10:41:49.391524Z",
     "iopub.status.idle": "2021-07-10T10:41:49.416734Z",
     "shell.execute_reply": "2021-07-10T10:41:49.415640Z",
     "shell.execute_reply.started": "2021-07-10T10:41:49.391893Z"
    }
   },
   "outputs": [
    {
     "data": {
      "text/html": [
       "<div>\n",
       "<style scoped>\n",
       "    .dataframe tbody tr th:only-of-type {\n",
       "        vertical-align: middle;\n",
       "    }\n",
       "\n",
       "    .dataframe tbody tr th {\n",
       "        vertical-align: top;\n",
       "    }\n",
       "\n",
       "    .dataframe thead th {\n",
       "        text-align: right;\n",
       "    }\n",
       "</style>\n",
       "<table border=\"1\" class=\"dataframe\">\n",
       "  <thead>\n",
       "    <tr style=\"text-align: right;\">\n",
       "      <th></th>\n",
       "      <th>school</th>\n",
       "      <th>classroom</th>\n",
       "      <th>GOOBU</th>\n",
       "      <th>QOQTS</th>\n",
       "      <th>UKPGS</th>\n",
       "      <th>DNQDD</th>\n",
       "      <th>GJJHK</th>\n",
       "      <th>ZOWMK</th>\n",
       "      <th>VVTVA</th>\n",
       "      <th>KZKKE</th>\n",
       "      <th>...</th>\n",
       "      <th>18K</th>\n",
       "      <th>ZBH</th>\n",
       "      <th>Q0E</th>\n",
       "      <th>A93</th>\n",
       "      <th>QA2</th>\n",
       "      <th>YTB</th>\n",
       "      <th>7BL</th>\n",
       "      <th>1Q1</th>\n",
       "      <th>SUR</th>\n",
       "      <th>ROP</th>\n",
       "    </tr>\n",
       "  </thead>\n",
       "  <tbody>\n",
       "    <tr>\n",
       "      <th>0</th>\n",
       "      <td>ANKYI</td>\n",
       "      <td>6OL</td>\n",
       "      <td>0</td>\n",
       "      <td>0</td>\n",
       "      <td>0</td>\n",
       "      <td>0</td>\n",
       "      <td>0</td>\n",
       "      <td>0</td>\n",
       "      <td>0</td>\n",
       "      <td>0</td>\n",
       "      <td>...</td>\n",
       "      <td>0</td>\n",
       "      <td>0</td>\n",
       "      <td>0</td>\n",
       "      <td>0</td>\n",
       "      <td>0</td>\n",
       "      <td>0</td>\n",
       "      <td>0</td>\n",
       "      <td>0</td>\n",
       "      <td>0</td>\n",
       "      <td>0</td>\n",
       "    </tr>\n",
       "    <tr>\n",
       "      <th>1</th>\n",
       "      <td>ANKYI</td>\n",
       "      <td>6OL</td>\n",
       "      <td>0</td>\n",
       "      <td>0</td>\n",
       "      <td>0</td>\n",
       "      <td>0</td>\n",
       "      <td>0</td>\n",
       "      <td>0</td>\n",
       "      <td>0</td>\n",
       "      <td>0</td>\n",
       "      <td>...</td>\n",
       "      <td>0</td>\n",
       "      <td>0</td>\n",
       "      <td>0</td>\n",
       "      <td>0</td>\n",
       "      <td>0</td>\n",
       "      <td>0</td>\n",
       "      <td>0</td>\n",
       "      <td>0</td>\n",
       "      <td>0</td>\n",
       "      <td>0</td>\n",
       "    </tr>\n",
       "    <tr>\n",
       "      <th>2</th>\n",
       "      <td>ANKYI</td>\n",
       "      <td>6OL</td>\n",
       "      <td>0</td>\n",
       "      <td>0</td>\n",
       "      <td>0</td>\n",
       "      <td>0</td>\n",
       "      <td>0</td>\n",
       "      <td>0</td>\n",
       "      <td>0</td>\n",
       "      <td>0</td>\n",
       "      <td>...</td>\n",
       "      <td>0</td>\n",
       "      <td>0</td>\n",
       "      <td>0</td>\n",
       "      <td>0</td>\n",
       "      <td>0</td>\n",
       "      <td>0</td>\n",
       "      <td>0</td>\n",
       "      <td>0</td>\n",
       "      <td>0</td>\n",
       "      <td>0</td>\n",
       "    </tr>\n",
       "    <tr>\n",
       "      <th>3</th>\n",
       "      <td>ANKYI</td>\n",
       "      <td>6OL</td>\n",
       "      <td>0</td>\n",
       "      <td>0</td>\n",
       "      <td>0</td>\n",
       "      <td>0</td>\n",
       "      <td>0</td>\n",
       "      <td>0</td>\n",
       "      <td>0</td>\n",
       "      <td>0</td>\n",
       "      <td>...</td>\n",
       "      <td>0</td>\n",
       "      <td>0</td>\n",
       "      <td>0</td>\n",
       "      <td>0</td>\n",
       "      <td>0</td>\n",
       "      <td>0</td>\n",
       "      <td>0</td>\n",
       "      <td>0</td>\n",
       "      <td>0</td>\n",
       "      <td>0</td>\n",
       "    </tr>\n",
       "    <tr>\n",
       "      <th>4</th>\n",
       "      <td>ANKYI</td>\n",
       "      <td>6OL</td>\n",
       "      <td>0</td>\n",
       "      <td>0</td>\n",
       "      <td>0</td>\n",
       "      <td>0</td>\n",
       "      <td>0</td>\n",
       "      <td>0</td>\n",
       "      <td>0</td>\n",
       "      <td>0</td>\n",
       "      <td>...</td>\n",
       "      <td>0</td>\n",
       "      <td>0</td>\n",
       "      <td>0</td>\n",
       "      <td>0</td>\n",
       "      <td>0</td>\n",
       "      <td>0</td>\n",
       "      <td>0</td>\n",
       "      <td>0</td>\n",
       "      <td>0</td>\n",
       "      <td>0</td>\n",
       "    </tr>\n",
       "  </tbody>\n",
       "</table>\n",
       "<p>5 rows × 22 columns</p>\n",
       "</div>"
      ],
      "text/plain": [
       "  school classroom  GOOBU  QOQTS  UKPGS  DNQDD  GJJHK  ZOWMK  VVTVA  KZKKE  \\\n",
       "0  ANKYI       6OL      0      0      0      0      0      0      0      0   \n",
       "1  ANKYI       6OL      0      0      0      0      0      0      0      0   \n",
       "2  ANKYI       6OL      0      0      0      0      0      0      0      0   \n",
       "3  ANKYI       6OL      0      0      0      0      0      0      0      0   \n",
       "4  ANKYI       6OL      0      0      0      0      0      0      0      0   \n",
       "\n",
       "   ...  18K  ZBH  Q0E  A93  QA2  YTB  7BL  1Q1  SUR  ROP  \n",
       "0  ...    0    0    0    0    0    0    0    0    0    0  \n",
       "1  ...    0    0    0    0    0    0    0    0    0    0  \n",
       "2  ...    0    0    0    0    0    0    0    0    0    0  \n",
       "3  ...    0    0    0    0    0    0    0    0    0    0  \n",
       "4  ...    0    0    0    0    0    0    0    0    0    0  \n",
       "\n",
       "[5 rows x 22 columns]"
      ]
     },
     "execution_count": 33,
     "metadata": {},
     "output_type": "execute_result"
    }
   ],
   "source": [
    "one_hot_encoding_on_most_frequent_categories1.head()"
   ]
  },
  {
   "cell_type": "code",
   "execution_count": 34,
   "metadata": {
    "execution": {
     "iopub.execute_input": "2021-07-10T09:52:44.548150Z",
     "iopub.status.busy": "2021-07-10T09:52:44.547856Z",
     "iopub.status.idle": "2021-07-10T09:52:44.559761Z",
     "shell.execute_reply": "2021-07-10T09:52:44.558639Z",
     "shell.execute_reply.started": "2021-07-10T09:52:44.548122Z"
    }
   },
   "outputs": [],
   "source": [
    "#one_hot_encoding_on_most_frequent_categories1_filtered_features=pd.DataFrame(one_hot_encoding_on_most_frequent_categories1,columns={\"GOOBU\",})"
   ]
  },
  {
   "cell_type": "code",
   "execution_count": 34,
   "metadata": {
    "execution": {
     "iopub.execute_input": "2021-07-10T10:42:53.317956Z",
     "iopub.status.busy": "2021-07-10T10:42:53.317495Z",
     "iopub.status.idle": "2021-07-10T10:42:53.337093Z",
     "shell.execute_reply": "2021-07-10T10:42:53.335816Z",
     "shell.execute_reply.started": "2021-07-10T10:42:53.317898Z"
    }
   },
   "outputs": [
    {
     "data": {
      "text/html": [
       "<div>\n",
       "<style scoped>\n",
       "    .dataframe tbody tr th:only-of-type {\n",
       "        vertical-align: middle;\n",
       "    }\n",
       "\n",
       "    .dataframe tbody tr th {\n",
       "        vertical-align: top;\n",
       "    }\n",
       "\n",
       "    .dataframe thead th {\n",
       "        text-align: right;\n",
       "    }\n",
       "</style>\n",
       "<table border=\"1\" class=\"dataframe\">\n",
       "  <thead>\n",
       "    <tr style=\"text-align: right;\">\n",
       "      <th></th>\n",
       "      <th>GOOBU</th>\n",
       "      <th>QOQTS</th>\n",
       "      <th>UKPGS</th>\n",
       "      <th>DNQDD</th>\n",
       "      <th>GJJHK</th>\n",
       "      <th>ZOWMK</th>\n",
       "      <th>VVTVA</th>\n",
       "      <th>KZKKE</th>\n",
       "      <th>CCAAW</th>\n",
       "      <th>CUQAM</th>\n",
       "      <th>18K</th>\n",
       "      <th>ZBH</th>\n",
       "      <th>Q0E</th>\n",
       "      <th>A93</th>\n",
       "      <th>QA2</th>\n",
       "      <th>YTB</th>\n",
       "      <th>7BL</th>\n",
       "      <th>1Q1</th>\n",
       "      <th>SUR</th>\n",
       "      <th>ROP</th>\n",
       "    </tr>\n",
       "  </thead>\n",
       "  <tbody>\n",
       "    <tr>\n",
       "      <th>0</th>\n",
       "      <td>0</td>\n",
       "      <td>0</td>\n",
       "      <td>0</td>\n",
       "      <td>0</td>\n",
       "      <td>0</td>\n",
       "      <td>0</td>\n",
       "      <td>0</td>\n",
       "      <td>0</td>\n",
       "      <td>0</td>\n",
       "      <td>0</td>\n",
       "      <td>0</td>\n",
       "      <td>0</td>\n",
       "      <td>0</td>\n",
       "      <td>0</td>\n",
       "      <td>0</td>\n",
       "      <td>0</td>\n",
       "      <td>0</td>\n",
       "      <td>0</td>\n",
       "      <td>0</td>\n",
       "      <td>0</td>\n",
       "    </tr>\n",
       "    <tr>\n",
       "      <th>1</th>\n",
       "      <td>0</td>\n",
       "      <td>0</td>\n",
       "      <td>0</td>\n",
       "      <td>0</td>\n",
       "      <td>0</td>\n",
       "      <td>0</td>\n",
       "      <td>0</td>\n",
       "      <td>0</td>\n",
       "      <td>0</td>\n",
       "      <td>0</td>\n",
       "      <td>0</td>\n",
       "      <td>0</td>\n",
       "      <td>0</td>\n",
       "      <td>0</td>\n",
       "      <td>0</td>\n",
       "      <td>0</td>\n",
       "      <td>0</td>\n",
       "      <td>0</td>\n",
       "      <td>0</td>\n",
       "      <td>0</td>\n",
       "    </tr>\n",
       "    <tr>\n",
       "      <th>2</th>\n",
       "      <td>0</td>\n",
       "      <td>0</td>\n",
       "      <td>0</td>\n",
       "      <td>0</td>\n",
       "      <td>0</td>\n",
       "      <td>0</td>\n",
       "      <td>0</td>\n",
       "      <td>0</td>\n",
       "      <td>0</td>\n",
       "      <td>0</td>\n",
       "      <td>0</td>\n",
       "      <td>0</td>\n",
       "      <td>0</td>\n",
       "      <td>0</td>\n",
       "      <td>0</td>\n",
       "      <td>0</td>\n",
       "      <td>0</td>\n",
       "      <td>0</td>\n",
       "      <td>0</td>\n",
       "      <td>0</td>\n",
       "    </tr>\n",
       "    <tr>\n",
       "      <th>3</th>\n",
       "      <td>0</td>\n",
       "      <td>0</td>\n",
       "      <td>0</td>\n",
       "      <td>0</td>\n",
       "      <td>0</td>\n",
       "      <td>0</td>\n",
       "      <td>0</td>\n",
       "      <td>0</td>\n",
       "      <td>0</td>\n",
       "      <td>0</td>\n",
       "      <td>0</td>\n",
       "      <td>0</td>\n",
       "      <td>0</td>\n",
       "      <td>0</td>\n",
       "      <td>0</td>\n",
       "      <td>0</td>\n",
       "      <td>0</td>\n",
       "      <td>0</td>\n",
       "      <td>0</td>\n",
       "      <td>0</td>\n",
       "    </tr>\n",
       "    <tr>\n",
       "      <th>4</th>\n",
       "      <td>0</td>\n",
       "      <td>0</td>\n",
       "      <td>0</td>\n",
       "      <td>0</td>\n",
       "      <td>0</td>\n",
       "      <td>0</td>\n",
       "      <td>0</td>\n",
       "      <td>0</td>\n",
       "      <td>0</td>\n",
       "      <td>0</td>\n",
       "      <td>0</td>\n",
       "      <td>0</td>\n",
       "      <td>0</td>\n",
       "      <td>0</td>\n",
       "      <td>0</td>\n",
       "      <td>0</td>\n",
       "      <td>0</td>\n",
       "      <td>0</td>\n",
       "      <td>0</td>\n",
       "      <td>0</td>\n",
       "    </tr>\n",
       "  </tbody>\n",
       "</table>\n",
       "</div>"
      ],
      "text/plain": [
       "   GOOBU  QOQTS  UKPGS  DNQDD  GJJHK  ZOWMK  VVTVA  KZKKE  CCAAW  CUQAM  18K  \\\n",
       "0      0      0      0      0      0      0      0      0      0      0    0   \n",
       "1      0      0      0      0      0      0      0      0      0      0    0   \n",
       "2      0      0      0      0      0      0      0      0      0      0    0   \n",
       "3      0      0      0      0      0      0      0      0      0      0    0   \n",
       "4      0      0      0      0      0      0      0      0      0      0    0   \n",
       "\n",
       "   ZBH  Q0E  A93  QA2  YTB  7BL  1Q1  SUR  ROP  \n",
       "0    0    0    0    0    0    0    0    0    0  \n",
       "1    0    0    0    0    0    0    0    0    0  \n",
       "2    0    0    0    0    0    0    0    0    0  \n",
       "3    0    0    0    0    0    0    0    0    0  \n",
       "4    0    0    0    0    0    0    0    0    0  "
      ]
     },
     "execution_count": 34,
     "metadata": {},
     "output_type": "execute_result"
    }
   ],
   "source": [
    "one_hot_encoding_on_most_frequent_categories1_filtered_features=one_hot_encoding_on_most_frequent_categories1.iloc[:,2:22]\n",
    "one_hot_encoding_on_most_frequent_categories1_filtered_features.head()"
   ]
  },
  {
   "cell_type": "code",
   "execution_count": 35,
   "metadata": {
    "execution": {
     "iopub.execute_input": "2021-07-10T10:43:15.401296Z",
     "iopub.status.busy": "2021-07-10T10:43:15.400911Z",
     "iopub.status.idle": "2021-07-10T10:43:15.407261Z",
     "shell.execute_reply": "2021-07-10T10:43:15.406298Z",
     "shell.execute_reply.started": "2021-07-10T10:43:15.401265Z"
    }
   },
   "outputs": [
    {
     "data": {
      "text/plain": [
       "(2133, 20)"
      ]
     },
     "execution_count": 35,
     "metadata": {},
     "output_type": "execute_result"
    }
   ],
   "source": [
    "one_hot_encoding_on_most_frequent_categories1_filtered_features.shape"
   ]
  },
  {
   "cell_type": "code",
   "execution_count": 36,
   "metadata": {
    "execution": {
     "iopub.execute_input": "2021-07-10T10:43:23.334238Z",
     "iopub.status.busy": "2021-07-10T10:43:23.333810Z",
     "iopub.status.idle": "2021-07-10T10:43:23.359360Z",
     "shell.execute_reply": "2021-07-10T10:43:23.358234Z",
     "shell.execute_reply.started": "2021-07-10T10:43:23.334201Z"
    }
   },
   "outputs": [
    {
     "data": {
      "text/html": [
       "<div>\n",
       "<style scoped>\n",
       "    .dataframe tbody tr th:only-of-type {\n",
       "        vertical-align: middle;\n",
       "    }\n",
       "\n",
       "    .dataframe tbody tr th {\n",
       "        vertical-align: top;\n",
       "    }\n",
       "\n",
       "    .dataframe thead th {\n",
       "        text-align: right;\n",
       "    }\n",
       "</style>\n",
       "<table border=\"1\" class=\"dataframe\">\n",
       "  <thead>\n",
       "    <tr style=\"text-align: right;\">\n",
       "      <th></th>\n",
       "      <th>GOOBU</th>\n",
       "      <th>QOQTS</th>\n",
       "      <th>UKPGS</th>\n",
       "      <th>DNQDD</th>\n",
       "      <th>GJJHK</th>\n",
       "      <th>ZOWMK</th>\n",
       "      <th>VVTVA</th>\n",
       "      <th>KZKKE</th>\n",
       "      <th>CCAAW</th>\n",
       "      <th>CUQAM</th>\n",
       "      <th>...</th>\n",
       "      <th>7BL</th>\n",
       "      <th>1Q1</th>\n",
       "      <th>SUR</th>\n",
       "      <th>ROP</th>\n",
       "      <th>school_setting_Suburban</th>\n",
       "      <th>school_setting_Urban</th>\n",
       "      <th>school_type_Public</th>\n",
       "      <th>gender_Male</th>\n",
       "      <th>teaching_method_Standard</th>\n",
       "      <th>lunch_Qualifies for reduced/free lunch</th>\n",
       "    </tr>\n",
       "  </thead>\n",
       "  <tbody>\n",
       "    <tr>\n",
       "      <th>0</th>\n",
       "      <td>0</td>\n",
       "      <td>0</td>\n",
       "      <td>0</td>\n",
       "      <td>0</td>\n",
       "      <td>0</td>\n",
       "      <td>0</td>\n",
       "      <td>0</td>\n",
       "      <td>0</td>\n",
       "      <td>0</td>\n",
       "      <td>0</td>\n",
       "      <td>...</td>\n",
       "      <td>0</td>\n",
       "      <td>0</td>\n",
       "      <td>0</td>\n",
       "      <td>0</td>\n",
       "      <td>0</td>\n",
       "      <td>1</td>\n",
       "      <td>0</td>\n",
       "      <td>0</td>\n",
       "      <td>1</td>\n",
       "      <td>0</td>\n",
       "    </tr>\n",
       "    <tr>\n",
       "      <th>1</th>\n",
       "      <td>0</td>\n",
       "      <td>0</td>\n",
       "      <td>0</td>\n",
       "      <td>0</td>\n",
       "      <td>0</td>\n",
       "      <td>0</td>\n",
       "      <td>0</td>\n",
       "      <td>0</td>\n",
       "      <td>0</td>\n",
       "      <td>0</td>\n",
       "      <td>...</td>\n",
       "      <td>0</td>\n",
       "      <td>0</td>\n",
       "      <td>0</td>\n",
       "      <td>0</td>\n",
       "      <td>0</td>\n",
       "      <td>1</td>\n",
       "      <td>0</td>\n",
       "      <td>0</td>\n",
       "      <td>1</td>\n",
       "      <td>0</td>\n",
       "    </tr>\n",
       "    <tr>\n",
       "      <th>2</th>\n",
       "      <td>0</td>\n",
       "      <td>0</td>\n",
       "      <td>0</td>\n",
       "      <td>0</td>\n",
       "      <td>0</td>\n",
       "      <td>0</td>\n",
       "      <td>0</td>\n",
       "      <td>0</td>\n",
       "      <td>0</td>\n",
       "      <td>0</td>\n",
       "      <td>...</td>\n",
       "      <td>0</td>\n",
       "      <td>0</td>\n",
       "      <td>0</td>\n",
       "      <td>0</td>\n",
       "      <td>0</td>\n",
       "      <td>1</td>\n",
       "      <td>0</td>\n",
       "      <td>1</td>\n",
       "      <td>1</td>\n",
       "      <td>0</td>\n",
       "    </tr>\n",
       "    <tr>\n",
       "      <th>3</th>\n",
       "      <td>0</td>\n",
       "      <td>0</td>\n",
       "      <td>0</td>\n",
       "      <td>0</td>\n",
       "      <td>0</td>\n",
       "      <td>0</td>\n",
       "      <td>0</td>\n",
       "      <td>0</td>\n",
       "      <td>0</td>\n",
       "      <td>0</td>\n",
       "      <td>...</td>\n",
       "      <td>0</td>\n",
       "      <td>0</td>\n",
       "      <td>0</td>\n",
       "      <td>0</td>\n",
       "      <td>0</td>\n",
       "      <td>1</td>\n",
       "      <td>0</td>\n",
       "      <td>0</td>\n",
       "      <td>1</td>\n",
       "      <td>0</td>\n",
       "    </tr>\n",
       "    <tr>\n",
       "      <th>4</th>\n",
       "      <td>0</td>\n",
       "      <td>0</td>\n",
       "      <td>0</td>\n",
       "      <td>0</td>\n",
       "      <td>0</td>\n",
       "      <td>0</td>\n",
       "      <td>0</td>\n",
       "      <td>0</td>\n",
       "      <td>0</td>\n",
       "      <td>0</td>\n",
       "      <td>...</td>\n",
       "      <td>0</td>\n",
       "      <td>0</td>\n",
       "      <td>0</td>\n",
       "      <td>0</td>\n",
       "      <td>0</td>\n",
       "      <td>1</td>\n",
       "      <td>0</td>\n",
       "      <td>1</td>\n",
       "      <td>1</td>\n",
       "      <td>0</td>\n",
       "    </tr>\n",
       "  </tbody>\n",
       "</table>\n",
       "<p>5 rows × 26 columns</p>\n",
       "</div>"
      ],
      "text/plain": [
       "   GOOBU  QOQTS  UKPGS  DNQDD  GJJHK  ZOWMK  VVTVA  KZKKE  CCAAW  CUQAM  ...  \\\n",
       "0      0      0      0      0      0      0      0      0      0      0  ...   \n",
       "1      0      0      0      0      0      0      0      0      0      0  ...   \n",
       "2      0      0      0      0      0      0      0      0      0      0  ...   \n",
       "3      0      0      0      0      0      0      0      0      0      0  ...   \n",
       "4      0      0      0      0      0      0      0      0      0      0  ...   \n",
       "\n",
       "   7BL  1Q1  SUR  ROP  school_setting_Suburban  school_setting_Urban  \\\n",
       "0    0    0    0    0                        0                     1   \n",
       "1    0    0    0    0                        0                     1   \n",
       "2    0    0    0    0                        0                     1   \n",
       "3    0    0    0    0                        0                     1   \n",
       "4    0    0    0    0                        0                     1   \n",
       "\n",
       "   school_type_Public  gender_Male  teaching_method_Standard  \\\n",
       "0                   0            0                         1   \n",
       "1                   0            0                         1   \n",
       "2                   0            1                         1   \n",
       "3                   0            0                         1   \n",
       "4                   0            1                         1   \n",
       "\n",
       "   lunch_Qualifies for reduced/free lunch  \n",
       "0                                       0  \n",
       "1                                       0  \n",
       "2                                       0  \n",
       "3                                       0  \n",
       "4                                       0  \n",
       "\n",
       "[5 rows x 26 columns]"
      ]
     },
     "execution_count": 36,
     "metadata": {},
     "output_type": "execute_result"
    }
   ],
   "source": [
    "#combining the features\n",
    "combined_features=pd.concat([one_hot_encoding_on_most_frequent_categories1_filtered_features, one_hot_encoding_feature_performing],axis=1)\n",
    "combined_features.head()"
   ]
  },
  {
   "cell_type": "code",
   "execution_count": 37,
   "metadata": {
    "execution": {
     "iopub.execute_input": "2021-07-10T10:43:36.389183Z",
     "iopub.status.busy": "2021-07-10T10:43:36.388782Z",
     "iopub.status.idle": "2021-07-10T10:43:36.397054Z",
     "shell.execute_reply": "2021-07-10T10:43:36.396014Z",
     "shell.execute_reply.started": "2021-07-10T10:43:36.389139Z"
    }
   },
   "outputs": [
    {
     "data": {
      "text/plain": [
       "(2133, 26)"
      ]
     },
     "execution_count": 37,
     "metadata": {},
     "output_type": "execute_result"
    }
   ],
   "source": [
    "combined_features.shape"
   ]
  },
  {
   "cell_type": "code",
   "execution_count": 38,
   "metadata": {
    "execution": {
     "iopub.execute_input": "2021-07-10T10:43:41.117536Z",
     "iopub.status.busy": "2021-07-10T10:43:41.117148Z",
     "iopub.status.idle": "2021-07-10T10:43:41.143660Z",
     "shell.execute_reply": "2021-07-10T10:43:41.142660Z",
     "shell.execute_reply.started": "2021-07-10T10:43:41.117503Z"
    }
   },
   "outputs": [
    {
     "data": {
      "text/html": [
       "<div>\n",
       "<style scoped>\n",
       "    .dataframe tbody tr th:only-of-type {\n",
       "        vertical-align: middle;\n",
       "    }\n",
       "\n",
       "    .dataframe tbody tr th {\n",
       "        vertical-align: top;\n",
       "    }\n",
       "\n",
       "    .dataframe thead th {\n",
       "        text-align: right;\n",
       "    }\n",
       "</style>\n",
       "<table border=\"1\" class=\"dataframe\">\n",
       "  <thead>\n",
       "    <tr style=\"text-align: right;\">\n",
       "      <th></th>\n",
       "      <th>pretest</th>\n",
       "      <th>n_student</th>\n",
       "      <th>GOOBU</th>\n",
       "      <th>QOQTS</th>\n",
       "      <th>UKPGS</th>\n",
       "      <th>DNQDD</th>\n",
       "      <th>GJJHK</th>\n",
       "      <th>ZOWMK</th>\n",
       "      <th>VVTVA</th>\n",
       "      <th>KZKKE</th>\n",
       "      <th>...</th>\n",
       "      <th>7BL</th>\n",
       "      <th>1Q1</th>\n",
       "      <th>SUR</th>\n",
       "      <th>ROP</th>\n",
       "      <th>school_setting_Suburban</th>\n",
       "      <th>school_setting_Urban</th>\n",
       "      <th>school_type_Public</th>\n",
       "      <th>gender_Male</th>\n",
       "      <th>teaching_method_Standard</th>\n",
       "      <th>lunch_Qualifies for reduced/free lunch</th>\n",
       "    </tr>\n",
       "  </thead>\n",
       "  <tbody>\n",
       "    <tr>\n",
       "      <th>0</th>\n",
       "      <td>62.0</td>\n",
       "      <td>20.0</td>\n",
       "      <td>0</td>\n",
       "      <td>0</td>\n",
       "      <td>0</td>\n",
       "      <td>0</td>\n",
       "      <td>0</td>\n",
       "      <td>0</td>\n",
       "      <td>0</td>\n",
       "      <td>0</td>\n",
       "      <td>...</td>\n",
       "      <td>0</td>\n",
       "      <td>0</td>\n",
       "      <td>0</td>\n",
       "      <td>0</td>\n",
       "      <td>0</td>\n",
       "      <td>1</td>\n",
       "      <td>0</td>\n",
       "      <td>0</td>\n",
       "      <td>1</td>\n",
       "      <td>0</td>\n",
       "    </tr>\n",
       "    <tr>\n",
       "      <th>1</th>\n",
       "      <td>66.0</td>\n",
       "      <td>20.0</td>\n",
       "      <td>0</td>\n",
       "      <td>0</td>\n",
       "      <td>0</td>\n",
       "      <td>0</td>\n",
       "      <td>0</td>\n",
       "      <td>0</td>\n",
       "      <td>0</td>\n",
       "      <td>0</td>\n",
       "      <td>...</td>\n",
       "      <td>0</td>\n",
       "      <td>0</td>\n",
       "      <td>0</td>\n",
       "      <td>0</td>\n",
       "      <td>0</td>\n",
       "      <td>1</td>\n",
       "      <td>0</td>\n",
       "      <td>0</td>\n",
       "      <td>1</td>\n",
       "      <td>0</td>\n",
       "    </tr>\n",
       "    <tr>\n",
       "      <th>2</th>\n",
       "      <td>64.0</td>\n",
       "      <td>20.0</td>\n",
       "      <td>0</td>\n",
       "      <td>0</td>\n",
       "      <td>0</td>\n",
       "      <td>0</td>\n",
       "      <td>0</td>\n",
       "      <td>0</td>\n",
       "      <td>0</td>\n",
       "      <td>0</td>\n",
       "      <td>...</td>\n",
       "      <td>0</td>\n",
       "      <td>0</td>\n",
       "      <td>0</td>\n",
       "      <td>0</td>\n",
       "      <td>0</td>\n",
       "      <td>1</td>\n",
       "      <td>0</td>\n",
       "      <td>1</td>\n",
       "      <td>1</td>\n",
       "      <td>0</td>\n",
       "    </tr>\n",
       "    <tr>\n",
       "      <th>3</th>\n",
       "      <td>61.0</td>\n",
       "      <td>20.0</td>\n",
       "      <td>0</td>\n",
       "      <td>0</td>\n",
       "      <td>0</td>\n",
       "      <td>0</td>\n",
       "      <td>0</td>\n",
       "      <td>0</td>\n",
       "      <td>0</td>\n",
       "      <td>0</td>\n",
       "      <td>...</td>\n",
       "      <td>0</td>\n",
       "      <td>0</td>\n",
       "      <td>0</td>\n",
       "      <td>0</td>\n",
       "      <td>0</td>\n",
       "      <td>1</td>\n",
       "      <td>0</td>\n",
       "      <td>0</td>\n",
       "      <td>1</td>\n",
       "      <td>0</td>\n",
       "    </tr>\n",
       "    <tr>\n",
       "      <th>4</th>\n",
       "      <td>64.0</td>\n",
       "      <td>20.0</td>\n",
       "      <td>0</td>\n",
       "      <td>0</td>\n",
       "      <td>0</td>\n",
       "      <td>0</td>\n",
       "      <td>0</td>\n",
       "      <td>0</td>\n",
       "      <td>0</td>\n",
       "      <td>0</td>\n",
       "      <td>...</td>\n",
       "      <td>0</td>\n",
       "      <td>0</td>\n",
       "      <td>0</td>\n",
       "      <td>0</td>\n",
       "      <td>0</td>\n",
       "      <td>1</td>\n",
       "      <td>0</td>\n",
       "      <td>1</td>\n",
       "      <td>1</td>\n",
       "      <td>0</td>\n",
       "    </tr>\n",
       "  </tbody>\n",
       "</table>\n",
       "<p>5 rows × 28 columns</p>\n",
       "</div>"
      ],
      "text/plain": [
       "   pretest  n_student  GOOBU  QOQTS  UKPGS  DNQDD  GJJHK  ZOWMK  VVTVA  KZKKE  \\\n",
       "0     62.0       20.0      0      0      0      0      0      0      0      0   \n",
       "1     66.0       20.0      0      0      0      0      0      0      0      0   \n",
       "2     64.0       20.0      0      0      0      0      0      0      0      0   \n",
       "3     61.0       20.0      0      0      0      0      0      0      0      0   \n",
       "4     64.0       20.0      0      0      0      0      0      0      0      0   \n",
       "\n",
       "   ...  7BL  1Q1  SUR  ROP  school_setting_Suburban  school_setting_Urban  \\\n",
       "0  ...    0    0    0    0                        0                     1   \n",
       "1  ...    0    0    0    0                        0                     1   \n",
       "2  ...    0    0    0    0                        0                     1   \n",
       "3  ...    0    0    0    0                        0                     1   \n",
       "4  ...    0    0    0    0                        0                     1   \n",
       "\n",
       "   school_type_Public  gender_Male  teaching_method_Standard  \\\n",
       "0                   0            0                         1   \n",
       "1                   0            0                         1   \n",
       "2                   0            1                         1   \n",
       "3                   0            0                         1   \n",
       "4                   0            1                         1   \n",
       "\n",
       "   lunch_Qualifies for reduced/free lunch  \n",
       "0                                       0  \n",
       "1                                       0  \n",
       "2                                       0  \n",
       "3                                       0  \n",
       "4                                       0  \n",
       "\n",
       "[5 rows x 28 columns]"
      ]
     },
     "execution_count": 38,
     "metadata": {},
     "output_type": "execute_result"
    }
   ],
   "source": [
    "training_features=pd.concat([Numerical_features,combined_features],axis=1)\n",
    "training_features.head()"
   ]
  },
  {
   "cell_type": "code",
   "execution_count": 39,
   "metadata": {
    "execution": {
     "iopub.execute_input": "2021-07-10T10:43:49.789320Z",
     "iopub.status.busy": "2021-07-10T10:43:49.788915Z",
     "iopub.status.idle": "2021-07-10T10:43:49.797314Z",
     "shell.execute_reply": "2021-07-10T10:43:49.796045Z",
     "shell.execute_reply.started": "2021-07-10T10:43:49.789286Z"
    }
   },
   "outputs": [],
   "source": [
    "target_feature=pd.DataFrame(data,columns={\"posttest\"})"
   ]
  },
  {
   "cell_type": "code",
   "execution_count": 40,
   "metadata": {
    "execution": {
     "iopub.execute_input": "2021-07-10T10:43:54.060087Z",
     "iopub.status.busy": "2021-07-10T10:43:54.059686Z",
     "iopub.status.idle": "2021-07-10T10:43:54.064524Z",
     "shell.execute_reply": "2021-07-10T10:43:54.063600Z",
     "shell.execute_reply.started": "2021-07-10T10:43:54.060053Z"
    }
   },
   "outputs": [],
   "source": [
    "X =training_features.copy()\n",
    "y = target_feature.copy()"
   ]
  },
  {
   "cell_type": "code",
   "execution_count": 41,
   "metadata": {
    "execution": {
     "iopub.execute_input": "2021-07-10T10:43:57.753188Z",
     "iopub.status.busy": "2021-07-10T10:43:57.752603Z",
     "iopub.status.idle": "2021-07-10T10:43:57.760279Z",
     "shell.execute_reply": "2021-07-10T10:43:57.759272Z",
     "shell.execute_reply.started": "2021-07-10T10:43:57.753119Z"
    }
   },
   "outputs": [],
   "source": [
    "X_train,X_test,y_train,y_test = train_test_split(X,y, test_size = 0.20,random_state = 42)"
   ]
  },
  {
   "cell_type": "code",
   "execution_count": 42,
   "metadata": {
    "execution": {
     "iopub.execute_input": "2021-07-10T10:44:00.500058Z",
     "iopub.status.busy": "2021-07-10T10:44:00.499696Z",
     "iopub.status.idle": "2021-07-10T10:44:00.505628Z",
     "shell.execute_reply": "2021-07-10T10:44:00.504907Z",
     "shell.execute_reply.started": "2021-07-10T10:44:00.500026Z"
    }
   },
   "outputs": [
    {
     "data": {
      "text/plain": [
       "((1706, 28), (427, 28), (1706, 1), (427, 1))"
      ]
     },
     "execution_count": 42,
     "metadata": {},
     "output_type": "execute_result"
    }
   ],
   "source": [
    "X_train.shape,X_test.shape,y_train.shape,y_test.shape"
   ]
  },
  {
   "cell_type": "code",
   "execution_count": 43,
   "metadata": {
    "execution": {
     "iopub.execute_input": "2021-07-10T10:44:03.817422Z",
     "iopub.status.busy": "2021-07-10T10:44:03.816855Z",
     "iopub.status.idle": "2021-07-10T10:44:03.820888Z",
     "shell.execute_reply": "2021-07-10T10:44:03.820043Z",
     "shell.execute_reply.started": "2021-07-10T10:44:03.817386Z"
    }
   },
   "outputs": [],
   "source": [
    "from sklearn.tree import DecisionTreeRegressor"
   ]
  },
  {
   "cell_type": "code",
   "execution_count": 44,
   "metadata": {
    "execution": {
     "iopub.execute_input": "2021-07-10T10:44:06.401400Z",
     "iopub.status.busy": "2021-07-10T10:44:06.400878Z",
     "iopub.status.idle": "2021-07-10T10:44:06.417973Z",
     "shell.execute_reply": "2021-07-10T10:44:06.416966Z",
     "shell.execute_reply.started": "2021-07-10T10:44:06.401367Z"
    }
   },
   "outputs": [
    {
     "data": {
      "text/plain": [
       "DecisionTreeRegressor()"
      ]
     },
     "execution_count": 44,
     "metadata": {},
     "output_type": "execute_result"
    }
   ],
   "source": [
    "tree = DecisionTreeRegressor()\n",
    "tree.fit(X_train, y_train)"
   ]
  },
  {
   "cell_type": "code",
   "execution_count": 45,
   "metadata": {
    "execution": {
     "iopub.execute_input": "2021-07-10T10:44:09.180406Z",
     "iopub.status.busy": "2021-07-10T10:44:09.179831Z",
     "iopub.status.idle": "2021-07-10T10:44:09.185716Z",
     "shell.execute_reply": "2021-07-10T10:44:09.185067Z",
     "shell.execute_reply.started": "2021-07-10T10:44:09.180371Z"
    }
   },
   "outputs": [
    {
     "data": {
      "text/plain": [
       "DecisionTreeRegressor()"
      ]
     },
     "execution_count": 45,
     "metadata": {},
     "output_type": "execute_result"
    }
   ],
   "source": [
    "DecisionTreeRegressor()"
   ]
  },
  {
   "cell_type": "code",
   "execution_count": 46,
   "metadata": {
    "execution": {
     "iopub.execute_input": "2021-07-10T10:44:11.988390Z",
     "iopub.status.busy": "2021-07-10T10:44:11.987762Z",
     "iopub.status.idle": "2021-07-10T10:44:11.996376Z",
     "shell.execute_reply": "2021-07-10T10:44:11.995199Z",
     "shell.execute_reply.started": "2021-07-10T10:44:11.988336Z"
    }
   },
   "outputs": [],
   "source": [
    "predictions = tree.predict(X_test)"
   ]
  },
  {
   "cell_type": "markdown",
   "metadata": {},
   "source": [
    "**Features**"
   ]
  },
  {
   "cell_type": "markdown",
   "metadata": {},
   "source": [
    "****Process data****"
   ]
  },
  {
   "cell_type": "markdown",
   "metadata": {},
   "source": [
    "****Train, Test****"
   ]
  },
  {
   "cell_type": "markdown",
   "metadata": {},
   "source": [
    "# Modeling: Decision Tree"
   ]
  },
  {
   "cell_type": "markdown",
   "metadata": {},
   "source": [
    "# Evaluating model: using MAE, MSE, RMSE and r2"
   ]
  },
  {
   "cell_type": "code",
   "execution_count": 47,
   "metadata": {
    "execution": {
     "iopub.execute_input": "2021-07-10T10:44:17.043636Z",
     "iopub.status.busy": "2021-07-10T10:44:17.043262Z",
     "iopub.status.idle": "2021-07-10T10:44:17.057509Z",
     "shell.execute_reply": "2021-07-10T10:44:17.056436Z",
     "shell.execute_reply.started": "2021-07-10T10:44:17.043605Z"
    }
   },
   "outputs": [
    {
     "name": "stdout",
     "output_type": "stream",
     "text": [
      "Mean Absolute Error (MAE): 3.2476971116315383\n",
      "Mean Squared Error (MSE): 17.630801457194902\n",
      "Root Mean Squared Error (RMSE): 4.198904792585193\n",
      "R^2: 0.9123466144093391\n"
     ]
    }
   ],
   "source": [
    "from sklearn import metrics\n",
    "\n",
    "print('Mean Absolute Error (MAE):', metrics.mean_absolute_error(y_test, predictions))\n",
    "print('Mean Squared Error (MSE):', metrics.mean_squared_error(y_test, predictions))\n",
    "print('Root Mean Squared Error (RMSE):', np.sqrt(metrics.mean_squared_error(y_test, predictions)))\n",
    "print('R^2:', metrics.r2_score(y_test, predictions))"
   ]
  },
  {
   "cell_type": "markdown",
   "metadata": {},
   "source": [
    "# Feature importance"
   ]
  },
  {
   "cell_type": "markdown",
   "metadata": {},
   "source": [
    "# result"
   ]
  },
  {
   "cell_type": "code",
   "execution_count": 48,
   "metadata": {
    "execution": {
     "iopub.execute_input": "2021-07-10T10:44:23.403564Z",
     "iopub.status.busy": "2021-07-10T10:44:23.402992Z",
     "iopub.status.idle": "2021-07-10T10:44:23.420535Z",
     "shell.execute_reply": "2021-07-10T10:44:23.419277Z",
     "shell.execute_reply.started": "2021-07-10T10:44:23.403514Z"
    }
   },
   "outputs": [
    {
     "name": "stdout",
     "output_type": "stream",
     "text": [
      "Mean Absolute Error (MAE): 3.2476971116315383\n",
      "Mean Squared Error (MSE): 17.630801457194902\n",
      "Root Mean Squared Error (RMSE): 4.198904792585193\n",
      "R^2: 0.9123466144093391\n"
     ]
    }
   ],
   "source": [
    "from sklearn import metrics\n",
    "\n",
    "print('Mean Absolute Error (MAE):', metrics.mean_absolute_error(y_test, predictions))\n",
    "print('Mean Squared Error (MSE):', metrics.mean_squared_error(y_test, predictions))\n",
    "print('Root Mean Squared Error (RMSE):', np.sqrt(metrics.mean_squared_error(y_test, predictions)))\n",
    "print('R^2:', metrics.r2_score(y_test, predictions))"
   ]
  },
  {
   "cell_type": "code",
   "execution_count": 49,
   "metadata": {
    "execution": {
     "iopub.execute_input": "2021-07-10T09:52:44.806385Z",
     "iopub.status.busy": "2021-07-10T09:52:44.805906Z",
     "iopub.status.idle": "2021-07-10T09:52:44.821440Z",
     "shell.execute_reply": "2021-07-10T09:52:44.820179Z",
     "shell.execute_reply.started": "2021-07-10T09:52:44.806350Z"
    }
   },
   "outputs": [],
   "source": [
    "# my_submission = pd.DataFrame(predictions)\n",
    "# my_submission.to_csv('submission.csv', index=False)"
   ]
  },
  {
   "cell_type": "code",
   "execution_count": 50,
   "metadata": {
    "execution": {
     "iopub.execute_input": "2021-07-10T09:52:44.823816Z",
     "iopub.status.busy": "2021-07-10T09:52:44.823328Z",
     "iopub.status.idle": "2021-07-10T09:52:44.832632Z",
     "shell.execute_reply": "2021-07-10T09:52:44.831489Z",
     "shell.execute_reply.started": "2021-07-10T09:52:44.823764Z"
    }
   },
   "outputs": [],
   "source": [
    "# my_submission.head()"
   ]
  },
  {
   "cell_type": "code",
   "execution_count": null,
   "metadata": {},
   "outputs": [],
   "source": []
  },
  {
   "cell_type": "markdown",
   "metadata": {},
   "source": [
    "# Random Forest Regressor"
   ]
  },
  {
   "cell_type": "code",
   "execution_count": 49,
   "metadata": {
    "execution": {
     "iopub.execute_input": "2021-07-10T10:44:28.230754Z",
     "iopub.status.busy": "2021-07-10T10:44:28.230365Z",
     "iopub.status.idle": "2021-07-10T10:44:28.710245Z",
     "shell.execute_reply": "2021-07-10T10:44:28.709124Z",
     "shell.execute_reply.started": "2021-07-10T10:44:28.230721Z"
    }
   },
   "outputs": [
    {
     "name": "stderr",
     "output_type": "stream",
     "text": [
      "/home/sakil/anaconda/lib/python3.7/site-packages/ipykernel_launcher.py:3: DataConversionWarning: A column-vector y was passed when a 1d array was expected. Please change the shape of y to (n_samples,), for example using ravel().\n",
      "  This is separate from the ipykernel package so we can avoid doing imports until\n"
     ]
    },
    {
     "data": {
      "text/plain": [
       "RandomForestRegressor()"
      ]
     },
     "execution_count": 49,
     "metadata": {},
     "output_type": "execute_result"
    }
   ],
   "source": [
    "from sklearn.ensemble import RandomForestRegressor\n",
    "randomforest=RandomForestRegressor()\n",
    "randomforest.fit(X_train,y_train)"
   ]
  },
  {
   "cell_type": "code",
   "execution_count": 51,
   "metadata": {
    "execution": {
     "iopub.execute_input": "2021-07-10T10:44:32.574096Z",
     "iopub.status.busy": "2021-07-10T10:44:32.573668Z",
     "iopub.status.idle": "2021-07-10T10:44:32.598184Z",
     "shell.execute_reply": "2021-07-10T10:44:32.597193Z",
     "shell.execute_reply.started": "2021-07-10T10:44:32.574060Z"
    }
   },
   "outputs": [],
   "source": [
    "randomforest_prediction=randomforest.predict(X_test)"
   ]
  },
  {
   "cell_type": "code",
   "execution_count": 52,
   "metadata": {
    "execution": {
     "iopub.execute_input": "2021-07-10T10:44:35.314910Z",
     "iopub.status.busy": "2021-07-10T10:44:35.314541Z",
     "iopub.status.idle": "2021-07-10T10:44:35.330728Z",
     "shell.execute_reply": "2021-07-10T10:44:35.329304Z",
     "shell.execute_reply.started": "2021-07-10T10:44:35.314877Z"
    }
   },
   "outputs": [
    {
     "name": "stdout",
     "output_type": "stream",
     "text": [
      "Mean Absolute Error (MAE): 2.6566580826797455\n",
      "Mean Squared Error (MSE): 11.554552401050755\n",
      "Root Mean Squared Error (RMSE): 3.399198788104449\n",
      "R^2: 0.9425553262909957\n"
     ]
    }
   ],
   "source": [
    "print('Mean Absolute Error (MAE):', metrics.mean_absolute_error(y_test, randomforest_prediction))\n",
    "print('Mean Squared Error (MSE):', metrics.mean_squared_error(y_test, randomforest_prediction))\n",
    "print('Root Mean Squared Error (RMSE):', np.sqrt(metrics.mean_squared_error(y_test, randomforest_prediction)))\n",
    "print('R^2:', metrics.r2_score(y_test, randomforest_prediction))"
   ]
  },
  {
   "cell_type": "code",
   "execution_count": 53,
   "metadata": {},
   "outputs": [],
   "source": [
    "import pickle"
   ]
  },
  {
   "cell_type": "code",
   "execution_count": 54,
   "metadata": {},
   "outputs": [],
   "source": [
    "filename = 'model.pkl'\n",
    "pickle.dump(randomforest, open(filename, 'wb'))"
   ]
  },
  {
   "cell_type": "markdown",
   "metadata": {},
   "source": [
    "# KNN"
   ]
  },
  {
   "cell_type": "code",
   "execution_count": 99,
   "metadata": {
    "execution": {
     "iopub.execute_input": "2021-07-10T10:44:41.935820Z",
     "iopub.status.busy": "2021-07-10T10:44:41.935383Z",
     "iopub.status.idle": "2021-07-10T10:44:41.939828Z",
     "shell.execute_reply": "2021-07-10T10:44:41.939083Z",
     "shell.execute_reply.started": "2021-07-10T10:44:41.935783Z"
    }
   },
   "outputs": [],
   "source": [
    "from sklearn.neighbors import KNeighborsRegressor"
   ]
  },
  {
   "cell_type": "code",
   "execution_count": 100,
   "metadata": {
    "execution": {
     "iopub.execute_input": "2021-07-10T10:44:45.546381Z",
     "iopub.status.busy": "2021-07-10T10:44:45.545817Z",
     "iopub.status.idle": "2021-07-10T10:44:45.561649Z",
     "shell.execute_reply": "2021-07-10T10:44:45.560752Z",
     "shell.execute_reply.started": "2021-07-10T10:44:45.546346Z"
    }
   },
   "outputs": [
    {
     "data": {
      "text/plain": [
       "KNeighborsRegressor(n_neighbors=8)"
      ]
     },
     "execution_count": 100,
     "metadata": {},
     "output_type": "execute_result"
    }
   ],
   "source": [
    "regressor=KNeighborsRegressor(n_neighbors=8)\n",
    "regressor.fit(X_train,y_train)"
   ]
  },
  {
   "cell_type": "code",
   "execution_count": 101,
   "metadata": {
    "execution": {
     "iopub.execute_input": "2021-07-10T10:44:48.933521Z",
     "iopub.status.busy": "2021-07-10T10:44:48.932977Z",
     "iopub.status.idle": "2021-07-10T10:44:48.947167Z",
     "shell.execute_reply": "2021-07-10T10:44:48.946031Z",
     "shell.execute_reply.started": "2021-07-10T10:44:48.933487Z"
    }
   },
   "outputs": [],
   "source": [
    "knn_prediction=regressor.predict(X_test)"
   ]
  },
  {
   "cell_type": "code",
   "execution_count": 102,
   "metadata": {
    "execution": {
     "iopub.execute_input": "2021-07-10T10:44:51.927665Z",
     "iopub.status.busy": "2021-07-10T10:44:51.926978Z",
     "iopub.status.idle": "2021-07-10T10:44:51.944319Z",
     "shell.execute_reply": "2021-07-10T10:44:51.943232Z",
     "shell.execute_reply.started": "2021-07-10T10:44:51.927618Z"
    }
   },
   "outputs": [
    {
     "name": "stdout",
     "output_type": "stream",
     "text": [
      "Mean Absolute Error (MAE): 2.822014051522248\n",
      "Mean Squared Error (MSE): 13.039300351288055\n",
      "Root Mean Squared Error (RMSE): 3.6109971408584713\n",
      "R^2: 0.9351737455441951\n"
     ]
    }
   ],
   "source": [
    "print('Mean Absolute Error (MAE):', metrics.mean_absolute_error(y_test, knn_prediction))\n",
    "print('Mean Squared Error (MSE):', metrics.mean_squared_error(y_test, knn_prediction))\n",
    "print('Root Mean Squared Error (RMSE):', np.sqrt(metrics.mean_squared_error(y_test, knn_prediction)))\n",
    "print('R^2:', metrics.r2_score(y_test, knn_prediction))"
   ]
  },
  {
   "cell_type": "markdown",
   "metadata": {},
   "source": [
    "# HyperParameter"
   ]
  },
  {
   "cell_type": "code",
   "execution_count": 103,
   "metadata": {
    "execution": {
     "iopub.execute_input": "2021-07-10T10:45:01.522324Z",
     "iopub.status.busy": "2021-07-10T10:45:01.521896Z",
     "iopub.status.idle": "2021-07-10T10:45:01.531088Z",
     "shell.execute_reply": "2021-07-10T10:45:01.530023Z",
     "shell.execute_reply.started": "2021-07-10T10:45:01.522288Z"
    }
   },
   "outputs": [
    {
     "name": "stdout",
     "output_type": "stream",
     "text": [
      "{'n_estimators': [200, 400, 600, 800, 1000, 1200, 1400, 1600, 1800, 2000], 'max_features': ['auto', 'sqrt', 'log2'], 'max_depth': [10, 120, 230, 340, 450, 560, 670, 780, 890, 1000], 'min_samples_split': [2, 5, 10, 14], 'min_samples_leaf': [1, 2, 4, 6, 8]}\n"
     ]
    }
   ],
   "source": [
    "from sklearn.model_selection import RandomizedSearchCV\n",
    "# Number of trees in random forest\n",
    "n_estimators = [int(x) for x in np.linspace(start = 200, stop = 2000, num = 10)]\n",
    "# Number of features to consider at every split\n",
    "max_features = ['auto', 'sqrt','log2']\n",
    "# Maximum number of levels in tree\n",
    "max_depth = [int(x) for x in np.linspace(10, 1000,10,1500)]\n",
    "# Minimum number of samples required to split a node\n",
    "min_samples_split = [2, 5, 10,14]\n",
    "# Minimum number of samples required at each leaf node\n",
    "min_samples_leaf = [1, 2, 4,6,8]\n",
    "# Create the random grid\n",
    "random_grid = {'n_estimators': n_estimators,\n",
    "               'max_features': max_features,\n",
    "               'max_depth': max_depth,\n",
    "               'min_samples_split': min_samples_split,\n",
    "               'min_samples_leaf': min_samples_leaf\n",
    "              }\n",
    "print(random_grid)"
   ]
  },
  {
   "cell_type": "code",
   "execution_count": 104,
   "metadata": {
    "execution": {
     "iopub.execute_input": "2021-07-10T10:45:06.976555Z",
     "iopub.status.busy": "2021-07-10T10:45:06.976185Z",
     "iopub.status.idle": "2021-07-10T10:53:41.518513Z",
     "shell.execute_reply": "2021-07-10T10:53:41.517194Z",
     "shell.execute_reply.started": "2021-07-10T10:45:06.976523Z"
    }
   },
   "outputs": [
    {
     "name": "stdout",
     "output_type": "stream",
     "text": [
      "Fitting 5 folds for each of 100 candidates, totalling 500 fits\n"
     ]
    },
    {
     "name": "stderr",
     "output_type": "stream",
     "text": [
      "[Parallel(n_jobs=-1)]: Using backend LokyBackend with 4 concurrent workers.\n",
      "[Parallel(n_jobs=-1)]: Done  33 tasks      | elapsed:   39.0s\n",
      "[Parallel(n_jobs=-1)]: Done 154 tasks      | elapsed:  2.5min\n",
      "[Parallel(n_jobs=-1)]: Done 357 tasks      | elapsed:  5.9min\n",
      "[Parallel(n_jobs=-1)]: Done 500 out of 500 | elapsed:  8.5min finished\n",
      "/opt/conda/lib/python3.7/site-packages/sklearn/model_selection/_search.py:765: DataConversionWarning: A column-vector y was passed when a 1d array was expected. Please change the shape of y to (n_samples,), for example using ravel().\n",
      "  self.best_estimator_.fit(X, y, **fit_params)\n"
     ]
    },
    {
     "data": {
      "text/plain": [
       "RandomizedSearchCV(cv=5, estimator=RandomForestRegressor(), n_iter=100,\n",
       "                   n_jobs=-1,\n",
       "                   param_distributions={'max_depth': [10, 120, 230, 340, 450,\n",
       "                                                      560, 670, 780, 890,\n",
       "                                                      1000],\n",
       "                                        'max_features': ['auto', 'sqrt',\n",
       "                                                         'log2'],\n",
       "                                        'min_samples_leaf': [1, 2, 4, 6, 8],\n",
       "                                        'min_samples_split': [2, 5, 10, 14],\n",
       "                                        'n_estimators': [200, 400, 600, 800,\n",
       "                                                         1000, 1200, 1400, 1600,\n",
       "                                                         1800, 2000]},\n",
       "                   random_state=100, verbose=2)"
      ]
     },
     "execution_count": 104,
     "metadata": {},
     "output_type": "execute_result"
    }
   ],
   "source": [
    "rf=RandomForestRegressor()\n",
    "rf_randomcv=RandomizedSearchCV(estimator=rf,param_distributions=random_grid,n_iter=100,cv=5,verbose=2,\n",
    "                               random_state=100,n_jobs=-1)\n",
    "### fit the randomized model\n",
    "rf_randomcv.fit(X_train,y_train)"
   ]
  },
  {
   "cell_type": "code",
   "execution_count": 105,
   "metadata": {
    "execution": {
     "iopub.execute_input": "2021-07-10T11:01:17.252754Z",
     "iopub.status.busy": "2021-07-10T11:01:17.251191Z",
     "iopub.status.idle": "2021-07-10T11:01:17.269336Z",
     "shell.execute_reply": "2021-07-10T11:01:17.268275Z",
     "shell.execute_reply.started": "2021-07-10T11:01:17.252662Z"
    }
   },
   "outputs": [
    {
     "data": {
      "text/plain": [
       "{'n_estimators': 1800,\n",
       " 'min_samples_split': 5,\n",
       " 'min_samples_leaf': 1,\n",
       " 'max_features': 'sqrt',\n",
       " 'max_depth': 230}"
      ]
     },
     "execution_count": 105,
     "metadata": {},
     "output_type": "execute_result"
    }
   ],
   "source": [
    "rf_randomcv.best_params_"
   ]
  },
  {
   "cell_type": "code",
   "execution_count": 106,
   "metadata": {
    "execution": {
     "iopub.execute_input": "2021-07-10T11:01:21.997226Z",
     "iopub.status.busy": "2021-07-10T11:01:21.996850Z",
     "iopub.status.idle": "2021-07-10T11:01:22.007479Z",
     "shell.execute_reply": "2021-07-10T11:01:22.006482Z",
     "shell.execute_reply.started": "2021-07-10T11:01:21.997194Z"
    }
   },
   "outputs": [
    {
     "data": {
      "text/plain": [
       "RandomizedSearchCV(cv=5, estimator=RandomForestRegressor(), n_iter=100,\n",
       "                   n_jobs=-1,\n",
       "                   param_distributions={'max_depth': [10, 120, 230, 340, 450,\n",
       "                                                      560, 670, 780, 890,\n",
       "                                                      1000],\n",
       "                                        'max_features': ['auto', 'sqrt',\n",
       "                                                         'log2'],\n",
       "                                        'min_samples_leaf': [1, 2, 4, 6, 8],\n",
       "                                        'min_samples_split': [2, 5, 10, 14],\n",
       "                                        'n_estimators': [200, 400, 600, 800,\n",
       "                                                         1000, 1200, 1400, 1600,\n",
       "                                                         1800, 2000]},\n",
       "                   random_state=100, verbose=2)"
      ]
     },
     "execution_count": 106,
     "metadata": {},
     "output_type": "execute_result"
    }
   ],
   "source": [
    "rf_randomcv"
   ]
  },
  {
   "cell_type": "code",
   "execution_count": 107,
   "metadata": {
    "execution": {
     "iopub.execute_input": "2021-07-10T11:01:25.956345Z",
     "iopub.status.busy": "2021-07-10T11:01:25.955986Z",
     "iopub.status.idle": "2021-07-10T11:01:25.960883Z",
     "shell.execute_reply": "2021-07-10T11:01:25.959787Z",
     "shell.execute_reply.started": "2021-07-10T11:01:25.956313Z"
    }
   },
   "outputs": [],
   "source": [
    "best_random_grid=rf_randomcv.best_estimator_"
   ]
  },
  {
   "cell_type": "code",
   "execution_count": 108,
   "metadata": {
    "execution": {
     "iopub.execute_input": "2021-07-10T11:01:32.110178Z",
     "iopub.status.busy": "2021-07-10T11:01:32.109288Z",
     "iopub.status.idle": "2021-07-10T11:01:32.381019Z",
     "shell.execute_reply": "2021-07-10T11:01:32.379929Z",
     "shell.execute_reply.started": "2021-07-10T11:01:32.110131Z"
    }
   },
   "outputs": [],
   "source": [
    "optimized_pred=best_random_grid.predict(X_test)"
   ]
  },
  {
   "cell_type": "code",
   "execution_count": 109,
   "metadata": {
    "execution": {
     "iopub.execute_input": "2021-07-10T11:01:35.614418Z",
     "iopub.status.busy": "2021-07-10T11:01:35.614020Z",
     "iopub.status.idle": "2021-07-10T11:01:35.631809Z",
     "shell.execute_reply": "2021-07-10T11:01:35.630430Z",
     "shell.execute_reply.started": "2021-07-10T11:01:35.614384Z"
    }
   },
   "outputs": [
    {
     "name": "stdout",
     "output_type": "stream",
     "text": [
      "Mean Absolute Error (MAE): 2.3938485813870076\n",
      "Mean Squared Error (MSE): 9.676325345862063\n",
      "Root Mean Squared Error (RMSE): 3.1106792418798284\n",
      "R^2: 0.9518931298329941\n"
     ]
    }
   ],
   "source": [
    "print('Mean Absolute Error (MAE):', metrics.mean_absolute_error(y_test, optimized_pred))\n",
    "print('Mean Squared Error (MSE):', metrics.mean_squared_error(y_test, optimized_pred))\n",
    "print('Root Mean Squared Error (RMSE):', np.sqrt(metrics.mean_squared_error(y_test, optimized_pred)))\n",
    "print('R^2:', metrics.r2_score(y_test, optimized_pred))"
   ]
  },
  {
   "cell_type": "code",
   "execution_count": 114,
   "metadata": {
    "execution": {
     "iopub.execute_input": "2021-07-10T11:06:19.918018Z",
     "iopub.status.busy": "2021-07-10T11:06:19.917585Z",
     "iopub.status.idle": "2021-07-10T11:06:19.935869Z",
     "shell.execute_reply": "2021-07-10T11:06:19.934684Z",
     "shell.execute_reply.started": "2021-07-10T11:06:19.917970Z"
    }
   },
   "outputs": [],
   "source": [
    "my_submission_final = pd.DataFrame(optimized_pred)\n",
    "my_submission_final.to_csv('submission.csv', index=False)"
   ]
  },
  {
   "cell_type": "code",
   "execution_count": 110,
   "metadata": {
    "execution": {
     "iopub.execute_input": "2021-07-10T11:01:44.849895Z",
     "iopub.status.busy": "2021-07-10T11:01:44.849495Z",
     "iopub.status.idle": "2021-07-10T11:01:44.854391Z",
     "shell.execute_reply": "2021-07-10T11:01:44.853311Z",
     "shell.execute_reply.started": "2021-07-10T11:01:44.849854Z"
    }
   },
   "outputs": [],
   "source": [
    "import lightgbm as lgbm"
   ]
  },
  {
   "cell_type": "code",
   "execution_count": 111,
   "metadata": {
    "execution": {
     "iopub.execute_input": "2021-07-10T11:01:48.147021Z",
     "iopub.status.busy": "2021-07-10T11:01:48.146405Z",
     "iopub.status.idle": "2021-07-10T11:01:48.311980Z",
     "shell.execute_reply": "2021-07-10T11:01:48.310928Z",
     "shell.execute_reply.started": "2021-07-10T11:01:48.146957Z"
    }
   },
   "outputs": [
    {
     "data": {
      "text/plain": [
       "LGBMRegressor()"
      ]
     },
     "execution_count": 111,
     "metadata": {},
     "output_type": "execute_result"
    }
   ],
   "source": [
    "model = lgbm.LGBMRegressor()\n",
    "X_train, X_test, y_train, y_test = train_test_split(X, y, random_state=42, test_size=0.2)\n",
    "model.fit(X_train, y_train)\n",
    "    "
   ]
  },
  {
   "cell_type": "code",
   "execution_count": 112,
   "metadata": {
    "execution": {
     "iopub.execute_input": "2021-07-10T11:01:52.848178Z",
     "iopub.status.busy": "2021-07-10T11:01:52.847783Z",
     "iopub.status.idle": "2021-07-10T11:01:52.860953Z",
     "shell.execute_reply": "2021-07-10T11:01:52.859864Z",
     "shell.execute_reply.started": "2021-07-10T11:01:52.848145Z"
    }
   },
   "outputs": [],
   "source": [
    "expected_y  = y_test\n",
    "predicted_y = model.predict(X_test)\n"
   ]
  },
  {
   "cell_type": "code",
   "execution_count": 113,
   "metadata": {
    "execution": {
     "iopub.execute_input": "2021-07-10T11:01:56.588038Z",
     "iopub.status.busy": "2021-07-10T11:01:56.587669Z",
     "iopub.status.idle": "2021-07-10T11:01:56.603061Z",
     "shell.execute_reply": "2021-07-10T11:01:56.602020Z",
     "shell.execute_reply.started": "2021-07-10T11:01:56.588007Z"
    }
   },
   "outputs": [
    {
     "name": "stdout",
     "output_type": "stream",
     "text": [
      "Mean Absolute Error (MAE): 2.4907686176923156\n",
      "Mean Squared Error (MSE): 10.136177594112663\n",
      "Root Mean Squared Error (RMSE): 3.183736420326385\n",
      "R^2: 0.9496069259682122\n"
     ]
    }
   ],
   "source": [
    "print('Mean Absolute Error (MAE):', metrics.mean_absolute_error(y_test, predicted_y))\n",
    "print('Mean Squared Error (MSE):', metrics.mean_squared_error(y_test, predicted_y))\n",
    "print('Root Mean Squared Error (RMSE):', np.sqrt(metrics.mean_squared_error(y_test, predicted_y)))\n",
    "print('R^2:', metrics.r2_score(y_test, predicted_y))"
   ]
  }
 ],
 "metadata": {
  "kernelspec": {
   "display_name": "Python 3",
   "language": "python",
   "name": "python3"
  },
  "language_info": {
   "codemirror_mode": {
    "name": "ipython",
    "version": 3
   },
   "file_extension": ".py",
   "mimetype": "text/x-python",
   "name": "python",
   "nbconvert_exporter": "python",
   "pygments_lexer": "ipython3",
   "version": "3.7.3"
  }
 },
 "nbformat": 4,
 "nbformat_minor": 4
}
